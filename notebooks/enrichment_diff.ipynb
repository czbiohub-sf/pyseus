{
 "cells": [
  {
   "cell_type": "code",
   "execution_count": 1,
   "metadata": {},
   "outputs": [],
   "source": [
    "import sys\n",
    "sys.path.append('../')\n",
    "\n",
    "import pandas as pd\n",
    "from pyseus import basic_processing as ip\n",
    "from pyseus import primary_analysis as pa\n",
    "from pyseus import validation_analysis as val"
   ]
  },
  {
   "cell_type": "code",
   "execution_count": 2,
   "metadata": {},
   "outputs": [],
   "source": [
    "root = '../data/20210719_Infected_Cell_All_Samples/'\n",
    "analysis = '20210726/'\n"
   ]
  },
  {
   "cell_type": "code",
   "execution_count": 3,
   "metadata": {},
   "outputs": [],
   "source": [
    "pvals = pd.read_pickle(root + analysis + 'pval_tables.pkl')"
   ]
  },
  {
   "cell_type": "code",
   "execution_count": 4,
   "metadata": {},
   "outputs": [],
   "source": [
    "standard = pvals.standard_hits_table"
   ]
  },
  {
   "cell_type": "code",
   "execution_count": 5,
   "metadata": {},
   "outputs": [
    {
     "data": {
      "text/html": "<div>\n<style scoped>\n    .dataframe tbody tr th:only-of-type {\n        vertical-align: middle;\n    }\n\n    .dataframe tbody tr th {\n        vertical-align: top;\n    }\n\n    .dataframe thead th {\n        text-align: right;\n    }\n</style>\n<table border=\"1\" class=\"dataframe\">\n  <thead>\n    <tr style=\"text-align: right;\">\n      <th>values</th>\n      <th>experiment</th>\n      <th>target</th>\n      <th>prey</th>\n      <th>protein_ids</th>\n      <th>pvals</th>\n      <th>enrichment</th>\n    </tr>\n  </thead>\n  <tbody>\n    <tr>\n      <th>0</th>\n      <td>20210719</td>\n      <td>RTN4-infected</td>\n      <td>MT-ND1;ND1;NADH1;NDI;ndh1</td>\n      <td>P03886;W8D6M0;R4I9W6;T1SW94;T1Q620;S4SPU5;R9YB...</td>\n      <td>1.011429</td>\n      <td>1.366500</td>\n    </tr>\n    <tr>\n      <th>1</th>\n      <td>20210719</td>\n      <td>RTN4-infected</td>\n      <td>ND6;NADH6;COX1;MT-ND6</td>\n      <td>A0A0A0PZ76;T1Q6P2;V9JR71;V9JDL3;V9JBQ6;V9J6I9;...</td>\n      <td>1.890862</td>\n      <td>3.098406</td>\n    </tr>\n    <tr>\n      <th>2</th>\n      <td>20210719</td>\n      <td>RTN4-infected</td>\n      <td>MT-CO1;COX1;coxI;COI;CO1</td>\n      <td>P00395;A0A096X0J8;A0A096WPC6;A0A096WLG7;A0A096...</td>\n      <td>0.483747</td>\n      <td>0.607438</td>\n    </tr>\n    <tr>\n      <th>3</th>\n      <td>20210719</td>\n      <td>RTN4-infected</td>\n      <td>COX3;COIII;CO3;coxIII;mtCOX3;MT-CO3</td>\n      <td>A0A075X871;H9QZW3;H9QNT9;H9SHR2;H9QP82;H9QQ96;...</td>\n      <td>0.385209</td>\n      <td>0.877600</td>\n    </tr>\n    <tr>\n      <th>4</th>\n      <td>20210719</td>\n      <td>RTN4-infected</td>\n      <td>FLJ10292;MAGOHB</td>\n      <td>A0A023T6R1;Q96A72;F5H6N1;F5H6P7;F5H3U9;F5H124</td>\n      <td>0.373741</td>\n      <td>-0.675300</td>\n    </tr>\n    <tr>\n      <th>...</th>\n      <td>...</td>\n      <td>...</td>\n      <td>...</td>\n      <td>...</td>\n      <td>...</td>\n      <td>...</td>\n    </tr>\n    <tr>\n      <th>5494</th>\n      <td>20210719</td>\n      <td>TOMM20-infected</td>\n      <td>HEL-S-31;MAP4K4</td>\n      <td>V9HWH3;E7ENQ1;H7C360;G5E948;B7Z3V5;G3XAA2</td>\n      <td>2.532589</td>\n      <td>-3.527777</td>\n    </tr>\n    <tr>\n      <th>5495</th>\n      <td>20210719</td>\n      <td>TOMM20-infected</td>\n      <td>LMNA</td>\n      <td>W8QEH3</td>\n      <td>0.574009</td>\n      <td>-4.566592</td>\n    </tr>\n    <tr>\n      <th>5496</th>\n      <td>20210719</td>\n      <td>TOMM20-infected</td>\n      <td>HLA-A</td>\n      <td>X2L7S8;Q29947</td>\n      <td>3.016742</td>\n      <td>-2.042000</td>\n    </tr>\n    <tr>\n      <th>5497</th>\n      <td>20210719</td>\n      <td>TOMM20-infected</td>\n      <td>RPL10</td>\n      <td>X5D2T3;X1WI28;P27635;B8A6G2;X5D2W5;A6QRI9</td>\n      <td>1.087423</td>\n      <td>0.308600</td>\n    </tr>\n    <tr>\n      <th>5498</th>\n      <td>20210719</td>\n      <td>TOMM20-infected</td>\n      <td>SLC27A3</td>\n      <td>X6R3N0;Q5K4L6;H7BZH4;H0YDP0</td>\n      <td>1.799357</td>\n      <td>-1.720600</td>\n    </tr>\n  </tbody>\n</table>\n<p>65988 rows × 6 columns</p>\n</div>",
      "text/plain": "values experiment           target                                 prey  \\\n0        20210719    RTN4-infected            MT-ND1;ND1;NADH1;NDI;ndh1   \n1        20210719    RTN4-infected                ND6;NADH6;COX1;MT-ND6   \n2        20210719    RTN4-infected             MT-CO1;COX1;coxI;COI;CO1   \n3        20210719    RTN4-infected  COX3;COIII;CO3;coxIII;mtCOX3;MT-CO3   \n4        20210719    RTN4-infected                      FLJ10292;MAGOHB   \n...           ...              ...                                  ...   \n5494     20210719  TOMM20-infected                      HEL-S-31;MAP4K4   \n5495     20210719  TOMM20-infected                                 LMNA   \n5496     20210719  TOMM20-infected                                HLA-A   \n5497     20210719  TOMM20-infected                                RPL10   \n5498     20210719  TOMM20-infected                              SLC27A3   \n\nvalues                                        protein_ids     pvals  \\\n0       P03886;W8D6M0;R4I9W6;T1SW94;T1Q620;S4SPU5;R9YB...  1.011429   \n1       A0A0A0PZ76;T1Q6P2;V9JR71;V9JDL3;V9JBQ6;V9J6I9;...  1.890862   \n2       P00395;A0A096X0J8;A0A096WPC6;A0A096WLG7;A0A096...  0.483747   \n3       A0A075X871;H9QZW3;H9QNT9;H9SHR2;H9QP82;H9QQ96;...  0.385209   \n4           A0A023T6R1;Q96A72;F5H6N1;F5H6P7;F5H3U9;F5H124  0.373741   \n...                                                   ...       ...   \n5494            V9HWH3;E7ENQ1;H7C360;G5E948;B7Z3V5;G3XAA2  2.532589   \n5495                                               W8QEH3  0.574009   \n5496                                        X2L7S8;Q29947  3.016742   \n5497            X5D2T3;X1WI28;P27635;B8A6G2;X5D2W5;A6QRI9  1.087423   \n5498                          X6R3N0;Q5K4L6;H7BZH4;H0YDP0  1.799357   \n\nvalues  enrichment  \n0         1.366500  \n1         3.098406  \n2         0.607438  \n3         0.877600  \n4        -0.675300  \n...            ...  \n5494     -3.527777  \n5495     -4.566592  \n5496     -2.042000  \n5497      0.308600  \n5498     -1.720600  \n\n[65988 rows x 6 columns]"
     },
     "execution_count": 5,
     "metadata": {},
     "output_type": "execute_result"
    }
   ],
   "source": [
    "standard"
   ]
  },
  {
   "cell_type": "code",
   "execution_count": 6,
   "metadata": {},
   "outputs": [],
   "source": [
    "standard['experiment'] = standard['target'].apply(lambda x: x.split('-')[1])\n",
    "standard['target'] = standard['target'].apply(lambda x: x.split('-')[0])"
   ]
  },
  {
   "cell_type": "code",
   "execution_count": 7,
   "metadata": {},
   "outputs": [
    {
     "data": {
      "text/html": "<div>\n<style scoped>\n    .dataframe tbody tr th:only-of-type {\n        vertical-align: middle;\n    }\n\n    .dataframe tbody tr th {\n        vertical-align: top;\n    }\n\n    .dataframe thead th {\n        text-align: right;\n    }\n</style>\n<table border=\"1\" class=\"dataframe\">\n  <thead>\n    <tr style=\"text-align: right;\">\n      <th>values</th>\n      <th>experiment</th>\n      <th>target</th>\n      <th>prey</th>\n      <th>protein_ids</th>\n      <th>pvals</th>\n      <th>enrichment</th>\n    </tr>\n  </thead>\n  <tbody>\n    <tr>\n      <th>0</th>\n      <td>infected</td>\n      <td>RTN4</td>\n      <td>MT-ND1;ND1;NADH1;NDI;ndh1</td>\n      <td>P03886;W8D6M0;R4I9W6;T1SW94;T1Q620;S4SPU5;R9YB...</td>\n      <td>1.011429</td>\n      <td>1.366500</td>\n    </tr>\n    <tr>\n      <th>1</th>\n      <td>infected</td>\n      <td>RTN4</td>\n      <td>ND6;NADH6;COX1;MT-ND6</td>\n      <td>A0A0A0PZ76;T1Q6P2;V9JR71;V9JDL3;V9JBQ6;V9J6I9;...</td>\n      <td>1.890862</td>\n      <td>3.098406</td>\n    </tr>\n    <tr>\n      <th>2</th>\n      <td>infected</td>\n      <td>RTN4</td>\n      <td>MT-CO1;COX1;coxI;COI;CO1</td>\n      <td>P00395;A0A096X0J8;A0A096WPC6;A0A096WLG7;A0A096...</td>\n      <td>0.483747</td>\n      <td>0.607438</td>\n    </tr>\n    <tr>\n      <th>3</th>\n      <td>infected</td>\n      <td>RTN4</td>\n      <td>COX3;COIII;CO3;coxIII;mtCOX3;MT-CO3</td>\n      <td>A0A075X871;H9QZW3;H9QNT9;H9SHR2;H9QP82;H9QQ96;...</td>\n      <td>0.385209</td>\n      <td>0.877600</td>\n    </tr>\n    <tr>\n      <th>4</th>\n      <td>infected</td>\n      <td>RTN4</td>\n      <td>FLJ10292;MAGOHB</td>\n      <td>A0A023T6R1;Q96A72;F5H6N1;F5H6P7;F5H3U9;F5H124</td>\n      <td>0.373741</td>\n      <td>-0.675300</td>\n    </tr>\n    <tr>\n      <th>...</th>\n      <td>...</td>\n      <td>...</td>\n      <td>...</td>\n      <td>...</td>\n      <td>...</td>\n      <td>...</td>\n    </tr>\n    <tr>\n      <th>5494</th>\n      <td>infected</td>\n      <td>TOMM20</td>\n      <td>HEL-S-31;MAP4K4</td>\n      <td>V9HWH3;E7ENQ1;H7C360;G5E948;B7Z3V5;G3XAA2</td>\n      <td>2.532589</td>\n      <td>-3.527777</td>\n    </tr>\n    <tr>\n      <th>5495</th>\n      <td>infected</td>\n      <td>TOMM20</td>\n      <td>LMNA</td>\n      <td>W8QEH3</td>\n      <td>0.574009</td>\n      <td>-4.566592</td>\n    </tr>\n    <tr>\n      <th>5496</th>\n      <td>infected</td>\n      <td>TOMM20</td>\n      <td>HLA-A</td>\n      <td>X2L7S8;Q29947</td>\n      <td>3.016742</td>\n      <td>-2.042000</td>\n    </tr>\n    <tr>\n      <th>5497</th>\n      <td>infected</td>\n      <td>TOMM20</td>\n      <td>RPL10</td>\n      <td>X5D2T3;X1WI28;P27635;B8A6G2;X5D2W5;A6QRI9</td>\n      <td>1.087423</td>\n      <td>0.308600</td>\n    </tr>\n    <tr>\n      <th>5498</th>\n      <td>infected</td>\n      <td>TOMM20</td>\n      <td>SLC27A3</td>\n      <td>X6R3N0;Q5K4L6;H7BZH4;H0YDP0</td>\n      <td>1.799357</td>\n      <td>-1.720600</td>\n    </tr>\n  </tbody>\n</table>\n<p>65988 rows × 6 columns</p>\n</div>",
      "text/plain": "values experiment  target                                 prey  \\\n0        infected    RTN4            MT-ND1;ND1;NADH1;NDI;ndh1   \n1        infected    RTN4                ND6;NADH6;COX1;MT-ND6   \n2        infected    RTN4             MT-CO1;COX1;coxI;COI;CO1   \n3        infected    RTN4  COX3;COIII;CO3;coxIII;mtCOX3;MT-CO3   \n4        infected    RTN4                      FLJ10292;MAGOHB   \n...           ...     ...                                  ...   \n5494     infected  TOMM20                      HEL-S-31;MAP4K4   \n5495     infected  TOMM20                                 LMNA   \n5496     infected  TOMM20                                HLA-A   \n5497     infected  TOMM20                                RPL10   \n5498     infected  TOMM20                              SLC27A3   \n\nvalues                                        protein_ids     pvals  \\\n0       P03886;W8D6M0;R4I9W6;T1SW94;T1Q620;S4SPU5;R9YB...  1.011429   \n1       A0A0A0PZ76;T1Q6P2;V9JR71;V9JDL3;V9JBQ6;V9J6I9;...  1.890862   \n2       P00395;A0A096X0J8;A0A096WPC6;A0A096WLG7;A0A096...  0.483747   \n3       A0A075X871;H9QZW3;H9QNT9;H9SHR2;H9QP82;H9QQ96;...  0.385209   \n4           A0A023T6R1;Q96A72;F5H6N1;F5H6P7;F5H3U9;F5H124  0.373741   \n...                                                   ...       ...   \n5494            V9HWH3;E7ENQ1;H7C360;G5E948;B7Z3V5;G3XAA2  2.532589   \n5495                                               W8QEH3  0.574009   \n5496                                        X2L7S8;Q29947  3.016742   \n5497            X5D2T3;X1WI28;P27635;B8A6G2;X5D2W5;A6QRI9  1.087423   \n5498                          X6R3N0;Q5K4L6;H7BZH4;H0YDP0  1.799357   \n\nvalues  enrichment  \n0         1.366500  \n1         3.098406  \n2         0.607438  \n3         0.877600  \n4        -0.675300  \n...            ...  \n5494     -3.527777  \n5495     -4.566592  \n5496     -2.042000  \n5497      0.308600  \n5498     -1.720600  \n\n[65988 rows x 6 columns]"
     },
     "execution_count": 7,
     "metadata": {},
     "output_type": "execute_result"
    }
   ],
   "source": [
    "standard"
   ]
  },
  {
   "cell_type": "code",
   "execution_count": 66,
   "metadata": {},
   "outputs": [],
   "source": [
    "def find_differential(standard_table, target, curvature, offset):\n",
    "    \"\"\"\n",
    "\n",
    "    \"\"\"\n",
    "    standard = standard_table.copy()\n",
    "    standard = standard[standard['target']==target]\n",
    "    vali = val.Validation(standard, '', '')\n",
    "    vali.static_fdr(curvature=curvature, offset=offset)\n",
    "    hits = vali.interaction_table\n",
    "\n",
    "    ints = hits[hits['interaction']==True]\n",
    "    no_ints = hits[hits['interaction']==False]\n",
    "    no_infected = no_ints[no_ints['experiment']=='infected'][['protein_ids', 'enrichment']].rename(columns={'enrichment':'!enrichment'})\n",
    "    no_uninfected = no_ints[no_ints['experiment']=='uninfected'][['protein_ids', 'enrichment']].rename(columns={'enrichment':'!enrichment'})\n",
    "\n",
    "    ints.drop_duplicates(subset='protein_ids', keep=False, inplace=True)\n",
    "    infected = ints[ints['experiment']=='infected']\n",
    "    uninfected = ints[ints['experiment']=='uninfected']   \n",
    "\n",
    "    inf_merge = infected.merge(no_uninfected, on='protein_ids', how='left')\n",
    "    uninf_merge = uninfected.merge(no_infected, on='protein_ids', how='left')\n",
    "\n",
    "    final = pd.concat([inf_merge, uninf_merge]).drop(columns=['interaction'])\n",
    "    final['enrichment differential'] = final['enrichment'] - final['!enrichment']\n",
    "    final.sort_values(by=['experiment', 'enrichment differential'], ascending=[True, False], inplace=True)\n",
    "    final.reset_index(drop=True, inplace=True)\n",
    "    return final\n",
    "\n"
   ]
  },
  {
   "cell_type": "code",
   "execution_count": null,
   "metadata": {},
   "outputs": [],
   "source": []
  },
  {
   "cell_type": "code",
   "execution_count": 83,
   "metadata": {},
   "outputs": [],
   "source": [
    "hits = find_differential(standard, 'TOMM20', 4, 4)"
   ]
  },
  {
   "cell_type": "code",
   "execution_count": 84,
   "metadata": {},
   "outputs": [
    {
     "data": {
      "text/html": "<div>\n<style scoped>\n    .dataframe tbody tr th:only-of-type {\n        vertical-align: middle;\n    }\n\n    .dataframe tbody tr th {\n        vertical-align: top;\n    }\n\n    .dataframe thead th {\n        text-align: right;\n    }\n</style>\n<table border=\"1\" class=\"dataframe\">\n  <thead>\n    <tr style=\"text-align: right;\">\n      <th>values</th>\n      <th>experiment</th>\n      <th>target</th>\n      <th>prey</th>\n      <th>protein_ids</th>\n      <th>pvals</th>\n      <th>enrichment</th>\n      <th>fdr</th>\n      <th>!enrichment</th>\n      <th>enrichment differential</th>\n    </tr>\n  </thead>\n  <tbody>\n    <tr>\n      <th>0</th>\n      <td>infected</td>\n      <td>TOMM20</td>\n      <td>N</td>\n      <td>OC43_N</td>\n      <td>6.143446</td>\n      <td>17.687100</td>\n      <td>[4, 4]</td>\n      <td>0.480700</td>\n      <td>17.206400</td>\n    </tr>\n    <tr>\n      <th>1</th>\n      <td>infected</td>\n      <td>TOMM20</td>\n      <td>M</td>\n      <td>OC43_M</td>\n      <td>2.851444</td>\n      <td>18.315000</td>\n      <td>[4, 4]</td>\n      <td>1.811600</td>\n      <td>16.503400</td>\n    </tr>\n    <tr>\n      <th>2</th>\n      <td>infected</td>\n      <td>TOMM20</td>\n      <td>HE</td>\n      <td>OC43_HE</td>\n      <td>4.631506</td>\n      <td>9.099500</td>\n      <td>[4, 4]</td>\n      <td>-3.241900</td>\n      <td>12.341400</td>\n    </tr>\n    <tr>\n      <th>3</th>\n      <td>infected</td>\n      <td>TOMM20</td>\n      <td>S</td>\n      <td>OC43_S</td>\n      <td>5.461839</td>\n      <td>13.425500</td>\n      <td>[4, 4]</td>\n      <td>3.288900</td>\n      <td>10.136600</td>\n    </tr>\n    <tr>\n      <th>4</th>\n      <td>infected</td>\n      <td>TOMM20</td>\n      <td>PLPRO</td>\n      <td>OC43_ORF1A_PLpro</td>\n      <td>3.909276</td>\n      <td>10.381100</td>\n      <td>[4, 4]</td>\n      <td>0.451200</td>\n      <td>9.929900</td>\n    </tr>\n    <tr>\n      <th>5</th>\n      <td>infected</td>\n      <td>TOMM20</td>\n      <td>3CL</td>\n      <td>OC43_ORF1A_3CL</td>\n      <td>4.111270</td>\n      <td>6.503000</td>\n      <td>[4, 4]</td>\n      <td>-1.250589</td>\n      <td>7.753589</td>\n    </tr>\n    <tr>\n      <th>6</th>\n      <td>infected</td>\n      <td>TOMM20</td>\n      <td>NS2</td>\n      <td>OC43_ORF1A_NS2</td>\n      <td>2.943877</td>\n      <td>10.396400</td>\n      <td>[4, 4]</td>\n      <td>2.824800</td>\n      <td>7.571600</td>\n    </tr>\n    <tr>\n      <th>7</th>\n      <td>infected</td>\n      <td>TOMM20</td>\n      <td>NS10</td>\n      <td>OC43_ORF1A_NS10</td>\n      <td>3.451683</td>\n      <td>6.884525</td>\n      <td>[4, 4]</td>\n      <td>-0.247994</td>\n      <td>7.132518</td>\n    </tr>\n    <tr>\n      <th>8</th>\n      <td>infected</td>\n      <td>TOMM20</td>\n      <td>HEL</td>\n      <td>OC43_ORF1AB_HEL;B9EIS3;Q9BXT6</td>\n      <td>5.157492</td>\n      <td>5.309651</td>\n      <td>[4, 4]</td>\n      <td>-1.636949</td>\n      <td>6.946600</td>\n    </tr>\n    <tr>\n      <th>9</th>\n      <td>infected</td>\n      <td>TOMM20</td>\n      <td>NS8</td>\n      <td>OC43_ORF1A_NS8</td>\n      <td>3.974236</td>\n      <td>7.941030</td>\n      <td>[4, 4]</td>\n      <td>1.145854</td>\n      <td>6.795176</td>\n    </tr>\n    <tr>\n      <th>10</th>\n      <td>infected</td>\n      <td>TOMM20</td>\n      <td>NS7</td>\n      <td>OC43_ORF1A_NS7</td>\n      <td>4.371553</td>\n      <td>6.952225</td>\n      <td>[4, 4]</td>\n      <td>0.579852</td>\n      <td>6.372373</td>\n    </tr>\n    <tr>\n      <th>11</th>\n      <td>infected</td>\n      <td>TOMM20</td>\n      <td>NS4</td>\n      <td>OC43_ORF1A_NS4</td>\n      <td>2.480503</td>\n      <td>6.233300</td>\n      <td>[4, 4]</td>\n      <td>0.126100</td>\n      <td>6.107200</td>\n    </tr>\n    <tr>\n      <th>12</th>\n      <td>infected</td>\n      <td>TOMM20</td>\n      <td>NS9</td>\n      <td>OC43_ORF1A_NS9</td>\n      <td>3.640833</td>\n      <td>5.606400</td>\n      <td>[4, 4]</td>\n      <td>-0.074307</td>\n      <td>5.680707</td>\n    </tr>\n    <tr>\n      <th>13</th>\n      <td>infected</td>\n      <td>TOMM20</td>\n      <td>SLC25A25</td>\n      <td>Q6KCM7;H7C4Z4;B4DI95;M0QZJ5;M0QZT4;Q9BV35;M0QZ...</td>\n      <td>5.274958</td>\n      <td>5.374400</td>\n      <td>[4, 4]</td>\n      <td>1.066200</td>\n      <td>4.308200</td>\n    </tr>\n    <tr>\n      <th>14</th>\n      <td>infected</td>\n      <td>TOMM20</td>\n      <td>RDRP</td>\n      <td>OC43_ORF1AB_RDRP</td>\n      <td>1.796511</td>\n      <td>6.915800</td>\n      <td>[4, 4]</td>\n      <td>3.155209</td>\n      <td>3.760591</td>\n    </tr>\n    <tr>\n      <th>15</th>\n      <td>infected</td>\n      <td>TOMM20</td>\n      <td>GN7MT</td>\n      <td>OC43_ORF1AB_GN7MT</td>\n      <td>5.353534</td>\n      <td>6.499100</td>\n      <td>[4, 4]</td>\n      <td>3.076920</td>\n      <td>3.422180</td>\n    </tr>\n    <tr>\n      <th>16</th>\n      <td>infected</td>\n      <td>TOMM20</td>\n      <td>HEBP1</td>\n      <td>A0A024RAS8;Q9NRV9;A0A3B3IRV5;F5GWX2;H0YG71</td>\n      <td>2.324030</td>\n      <td>5.906878</td>\n      <td>[4, 4]</td>\n      <td>3.597878</td>\n      <td>2.309000</td>\n    </tr>\n    <tr>\n      <th>17</th>\n      <td>infected</td>\n      <td>TOMM20</td>\n      <td>HSD17B8</td>\n      <td>Q92506;A0A1U9X7U3;A0A1U9X7U8</td>\n      <td>3.778533</td>\n      <td>5.667900</td>\n      <td>[4, 4]</td>\n      <td>3.899300</td>\n      <td>1.768600</td>\n    </tr>\n    <tr>\n      <th>18</th>\n      <td>infected</td>\n      <td>TOMM20</td>\n      <td>ND4;ndh4;NADH4;MT-ND4</td>\n      <td>D8VCQ0;A0A343R0F2;R4IA33;R9Y0J8;R9Y323;R9Y4D9;...</td>\n      <td>3.584180</td>\n      <td>5.605200</td>\n      <td>[4, 4]</td>\n      <td>4.111200</td>\n      <td>1.494000</td>\n    </tr>\n    <tr>\n      <th>19</th>\n      <td>infected</td>\n      <td>TOMM20</td>\n      <td>RSAD1</td>\n      <td>Q9HA92;H0Y934;B4DEV9;H0Y9X4;K7EKD3</td>\n      <td>3.601800</td>\n      <td>5.137801</td>\n      <td>[4, 4]</td>\n      <td>3.694701</td>\n      <td>1.443100</td>\n    </tr>\n    <tr>\n      <th>20</th>\n      <td>infected</td>\n      <td>TOMM20</td>\n      <td>GFER</td>\n      <td>H3BRW3;P55789;H3BRD2;Q9NY86</td>\n      <td>3.243727</td>\n      <td>5.292200</td>\n      <td>[4, 4]</td>\n      <td>3.996800</td>\n      <td>1.295400</td>\n    </tr>\n    <tr>\n      <th>21</th>\n      <td>infected</td>\n      <td>TOMM20</td>\n      <td>PARS2</td>\n      <td>Q7L3T8</td>\n      <td>4.138586</td>\n      <td>5.981800</td>\n      <td>[4, 4]</td>\n      <td>4.882100</td>\n      <td>1.099700</td>\n    </tr>\n    <tr>\n      <th>22</th>\n      <td>infected</td>\n      <td>TOMM20</td>\n      <td>GUK1;DKFZp666D023</td>\n      <td>Q96IN2;Q6IBG8;B1ANH0;A0A024R3U5;Q16774;B1ANH2;...</td>\n      <td>4.944783</td>\n      <td>6.543500</td>\n      <td>[4, 4]</td>\n      <td>5.485900</td>\n      <td>1.057600</td>\n    </tr>\n    <tr>\n      <th>23</th>\n      <td>infected</td>\n      <td>TOMM20</td>\n      <td>COA7</td>\n      <td>A0A384MTZ4;Q96BR5</td>\n      <td>4.503535</td>\n      <td>5.229700</td>\n      <td>[4, 4]</td>\n      <td>4.231000</td>\n      <td>0.998700</td>\n    </tr>\n    <tr>\n      <th>24</th>\n      <td>infected</td>\n      <td>TOMM20</td>\n      <td>SOD2</td>\n      <td>P04179;A0A384NL29;Q7Z7M4;Q7Z7M7;Q4ZJI1;Q7Z7M6;...</td>\n      <td>3.546559</td>\n      <td>5.398800</td>\n      <td>[4, 4]</td>\n      <td>4.413600</td>\n      <td>0.985200</td>\n    </tr>\n    <tr>\n      <th>25</th>\n      <td>infected</td>\n      <td>TOMM20</td>\n      <td>RDH13</td>\n      <td>A0A024R4M8;Q8NBN7;G8JLA1;B2RDH1;B3KVA3;A8K6B4;...</td>\n      <td>3.938882</td>\n      <td>5.159000</td>\n      <td>[4, 4]</td>\n      <td>4.193000</td>\n      <td>0.966000</td>\n    </tr>\n    <tr>\n      <th>26</th>\n      <td>infected</td>\n      <td>TOMM20</td>\n      <td>OXLD1</td>\n      <td>Q5BKU9</td>\n      <td>4.190714</td>\n      <td>5.141200</td>\n      <td>[4, 4]</td>\n      <td>4.222300</td>\n      <td>0.918900</td>\n    </tr>\n    <tr>\n      <th>27</th>\n      <td>infected</td>\n      <td>TOMM20</td>\n      <td>MGC10993;TMEM177</td>\n      <td>B3KUD0;A0A024RAE5;Q53S58;B4DR32;C9J6F8</td>\n      <td>5.870902</td>\n      <td>4.925452</td>\n      <td>[4, 4]</td>\n      <td>4.023252</td>\n      <td>0.902200</td>\n    </tr>\n    <tr>\n      <th>28</th>\n      <td>infected</td>\n      <td>TOMM20</td>\n      <td>NDUFV3</td>\n      <td>P56181;Q2VYF0</td>\n      <td>3.247914</td>\n      <td>6.136077</td>\n      <td>[4, 4]</td>\n      <td>5.234077</td>\n      <td>0.902000</td>\n    </tr>\n    <tr>\n      <th>29</th>\n      <td>infected</td>\n      <td>TOMM20</td>\n      <td>FAM54B;MTFR1L</td>\n      <td>A0A0S2Z5H6;B4DRE5;Q9H019;E9PLD2;B2RAQ5;C9JF50;...</td>\n      <td>3.055183</td>\n      <td>6.262300</td>\n      <td>[4, 4]</td>\n      <td>5.442900</td>\n      <td>0.819400</td>\n    </tr>\n    <tr>\n      <th>30</th>\n      <td>infected</td>\n      <td>TOMM20</td>\n      <td>FXN</td>\n      <td>C9JAX1;A0A0S2Z3G4;Q16595;A0A2R8Y5A1;A0A2R8Y4G3...</td>\n      <td>3.414178</td>\n      <td>5.316700</td>\n      <td>[4, 4]</td>\n      <td>4.522800</td>\n      <td>0.793900</td>\n    </tr>\n    <tr>\n      <th>31</th>\n      <td>infected</td>\n      <td>TOMM20</td>\n      <td>PARL</td>\n      <td>A0A1W2PP11;H7C0U0;Q9H300;F8WCQ4;A0A1W2PS40;C9J...</td>\n      <td>3.791680</td>\n      <td>5.224300</td>\n      <td>[4, 4]</td>\n      <td>4.444700</td>\n      <td>0.779600</td>\n    </tr>\n    <tr>\n      <th>32</th>\n      <td>infected</td>\n      <td>TOMM20</td>\n      <td>HK2;DKFZp686M1669</td>\n      <td>A8K2U2;P52789;E9PB90;Q68E10;Q53QX9;Q53SG7;Q09L...</td>\n      <td>4.519885</td>\n      <td>4.904800</td>\n      <td>[4, 4]</td>\n      <td>4.129800</td>\n      <td>0.775000</td>\n    </tr>\n    <tr>\n      <th>33</th>\n      <td>infected</td>\n      <td>TOMM20</td>\n      <td>COMTD1</td>\n      <td>A8K337;Q86VU5;R4GNF4;B4DY64</td>\n      <td>2.976208</td>\n      <td>6.271404</td>\n      <td>[4, 4]</td>\n      <td>5.535204</td>\n      <td>0.736200</td>\n    </tr>\n    <tr>\n      <th>34</th>\n      <td>infected</td>\n      <td>TOMM20</td>\n      <td>FAM136A</td>\n      <td>Q96C01;E7EQY1;B0AZT6;C9JF51;C9J2Y4</td>\n      <td>4.134970</td>\n      <td>5.066800</td>\n      <td>[4, 4]</td>\n      <td>4.365100</td>\n      <td>0.701700</td>\n    </tr>\n    <tr>\n      <th>35</th>\n      <td>infected</td>\n      <td>TOMM20</td>\n      <td>MARS2</td>\n      <td>Q96GW9;B4DVV7</td>\n      <td>3.345541</td>\n      <td>5.411700</td>\n      <td>[4, 4]</td>\n      <td>4.734100</td>\n      <td>0.677600</td>\n    </tr>\n    <tr>\n      <th>36</th>\n      <td>infected</td>\n      <td>TOMM20</td>\n      <td>POLG2</td>\n      <td>E5KS15;Q9UHN1;A0A5F9ZHX9;A0A5F9ZH93;J3QRU9;J3KRM2</td>\n      <td>5.377718</td>\n      <td>7.508300</td>\n      <td>[4, 4]</td>\n      <td>6.973500</td>\n      <td>0.534800</td>\n    </tr>\n    <tr>\n      <th>37</th>\n      <td>infected</td>\n      <td>TOMM20</td>\n      <td>CPOX</td>\n      <td>P36551;H0YA22;D6RER6</td>\n      <td>4.835818</td>\n      <td>4.905100</td>\n      <td>[4, 4]</td>\n      <td>4.808000</td>\n      <td>0.097100</td>\n    </tr>\n    <tr>\n      <th>38</th>\n      <td>infected</td>\n      <td>TOMM20</td>\n      <td>ALDH1L1</td>\n      <td>Q53HP5;Q53H87;Q59G10;O75891;A0A0S2Z527;A0A077H...</td>\n      <td>4.051214</td>\n      <td>5.138851</td>\n      <td>[4, 4]</td>\n      <td>5.105451</td>\n      <td>0.033400</td>\n    </tr>\n    <tr>\n      <th>39</th>\n      <td>infected</td>\n      <td>TOMM20</td>\n      <td>GFM2</td>\n      <td>A0A024RAK1;Q969S9;A0A024RAJ7;A0A6M4C975;D6RAL1...</td>\n      <td>2.542447</td>\n      <td>5.820298</td>\n      <td>[4, 4]</td>\n      <td>5.923398</td>\n      <td>-0.103100</td>\n    </tr>\n    <tr>\n      <th>40</th>\n      <td>infected</td>\n      <td>TOMM20</td>\n      <td>NDUFB7</td>\n      <td>P17568</td>\n      <td>2.059649</td>\n      <td>6.118369</td>\n      <td>[4, 4]</td>\n      <td>6.342069</td>\n      <td>-0.223700</td>\n    </tr>\n    <tr>\n      <th>41</th>\n      <td>infected</td>\n      <td>TOMM20</td>\n      <td>ATPAF2</td>\n      <td>Q8N5M1;C9J2Q2;B7Z3V0;K7ELC1;B4DG98</td>\n      <td>3.287762</td>\n      <td>5.638600</td>\n      <td>[4, 4]</td>\n      <td>6.144800</td>\n      <td>-0.506200</td>\n    </tr>\n    <tr>\n      <th>42</th>\n      <td>infected</td>\n      <td>TOMM20</td>\n      <td>MTIF3</td>\n      <td>A0A024RDQ7;Q9H2K0</td>\n      <td>3.479607</td>\n      <td>5.302100</td>\n      <td>[4, 4]</td>\n      <td>5.815100</td>\n      <td>-0.513000</td>\n    </tr>\n    <tr>\n      <th>43</th>\n      <td>uninfected</td>\n      <td>TOMM20</td>\n      <td>COLGALT2;GLT25D2</td>\n      <td>Q8IYK4;B4DF84;A0A3B3IT37;B3KT92;Q5SXQ5;B3KXG2;...</td>\n      <td>3.898378</td>\n      <td>9.005824</td>\n      <td>[4, 4]</td>\n      <td>-0.130730</td>\n      <td>9.136553</td>\n    </tr>\n    <tr>\n      <th>44</th>\n      <td>uninfected</td>\n      <td>TOMM20</td>\n      <td>PCK2</td>\n      <td>A0A384MTT2;A0A0S2Z430;Q16822;Q6IB91;H0YML5;A0A...</td>\n      <td>2.869233</td>\n      <td>5.940100</td>\n      <td>[4, 4]</td>\n      <td>5.110300</td>\n      <td>0.829800</td>\n    </tr>\n    <tr>\n      <th>45</th>\n      <td>uninfected</td>\n      <td>TOMM20</td>\n      <td>SMIM12;C1orf212</td>\n      <td>Q96EX1;L0R6D7;E5RH51</td>\n      <td>1.542769</td>\n      <td>6.676588</td>\n      <td>[4, 4]</td>\n      <td>5.909288</td>\n      <td>0.767300</td>\n    </tr>\n  </tbody>\n</table>\n</div>",
      "text/plain": "values  experiment  target                   prey  \\\n0         infected  TOMM20                      N   \n1         infected  TOMM20                      M   \n2         infected  TOMM20                     HE   \n3         infected  TOMM20                      S   \n4         infected  TOMM20                  PLPRO   \n5         infected  TOMM20                    3CL   \n6         infected  TOMM20                    NS2   \n7         infected  TOMM20                   NS10   \n8         infected  TOMM20                    HEL   \n9         infected  TOMM20                    NS8   \n10        infected  TOMM20                    NS7   \n11        infected  TOMM20                    NS4   \n12        infected  TOMM20                    NS9   \n13        infected  TOMM20               SLC25A25   \n14        infected  TOMM20                   RDRP   \n15        infected  TOMM20                  GN7MT   \n16        infected  TOMM20                  HEBP1   \n17        infected  TOMM20                HSD17B8   \n18        infected  TOMM20  ND4;ndh4;NADH4;MT-ND4   \n19        infected  TOMM20                  RSAD1   \n20        infected  TOMM20                   GFER   \n21        infected  TOMM20                  PARS2   \n22        infected  TOMM20      GUK1;DKFZp666D023   \n23        infected  TOMM20                   COA7   \n24        infected  TOMM20                   SOD2   \n25        infected  TOMM20                  RDH13   \n26        infected  TOMM20                  OXLD1   \n27        infected  TOMM20       MGC10993;TMEM177   \n28        infected  TOMM20                 NDUFV3   \n29        infected  TOMM20          FAM54B;MTFR1L   \n30        infected  TOMM20                    FXN   \n31        infected  TOMM20                   PARL   \n32        infected  TOMM20      HK2;DKFZp686M1669   \n33        infected  TOMM20                 COMTD1   \n34        infected  TOMM20                FAM136A   \n35        infected  TOMM20                  MARS2   \n36        infected  TOMM20                  POLG2   \n37        infected  TOMM20                   CPOX   \n38        infected  TOMM20                ALDH1L1   \n39        infected  TOMM20                   GFM2   \n40        infected  TOMM20                 NDUFB7   \n41        infected  TOMM20                 ATPAF2   \n42        infected  TOMM20                  MTIF3   \n43      uninfected  TOMM20       COLGALT2;GLT25D2   \n44      uninfected  TOMM20                   PCK2   \n45      uninfected  TOMM20        SMIM12;C1orf212   \n\nvalues                                        protein_ids     pvals  \\\n0                                                  OC43_N  6.143446   \n1                                                  OC43_M  2.851444   \n2                                                 OC43_HE  4.631506   \n3                                                  OC43_S  5.461839   \n4                                        OC43_ORF1A_PLpro  3.909276   \n5                                          OC43_ORF1A_3CL  4.111270   \n6                                          OC43_ORF1A_NS2  2.943877   \n7                                         OC43_ORF1A_NS10  3.451683   \n8                           OC43_ORF1AB_HEL;B9EIS3;Q9BXT6  5.157492   \n9                                          OC43_ORF1A_NS8  3.974236   \n10                                         OC43_ORF1A_NS7  4.371553   \n11                                         OC43_ORF1A_NS4  2.480503   \n12                                         OC43_ORF1A_NS9  3.640833   \n13      Q6KCM7;H7C4Z4;B4DI95;M0QZJ5;M0QZT4;Q9BV35;M0QZ...  5.274958   \n14                                       OC43_ORF1AB_RDRP  1.796511   \n15                                      OC43_ORF1AB_GN7MT  5.353534   \n16             A0A024RAS8;Q9NRV9;A0A3B3IRV5;F5GWX2;H0YG71  2.324030   \n17                           Q92506;A0A1U9X7U3;A0A1U9X7U8  3.778533   \n18      D8VCQ0;A0A343R0F2;R4IA33;R9Y0J8;R9Y323;R9Y4D9;...  3.584180   \n19                     Q9HA92;H0Y934;B4DEV9;H0Y9X4;K7EKD3  3.601800   \n20                            H3BRW3;P55789;H3BRD2;Q9NY86  3.243727   \n21                                                 Q7L3T8  4.138586   \n22      Q96IN2;Q6IBG8;B1ANH0;A0A024R3U5;Q16774;B1ANH2;...  4.944783   \n23                                      A0A384MTZ4;Q96BR5  4.503535   \n24      P04179;A0A384NL29;Q7Z7M4;Q7Z7M7;Q4ZJI1;Q7Z7M6;...  3.546559   \n25      A0A024R4M8;Q8NBN7;G8JLA1;B2RDH1;B3KVA3;A8K6B4;...  3.938882   \n26                                                 Q5BKU9  4.190714   \n27                 B3KUD0;A0A024RAE5;Q53S58;B4DR32;C9J6F8  5.870902   \n28                                          P56181;Q2VYF0  3.247914   \n29      A0A0S2Z5H6;B4DRE5;Q9H019;E9PLD2;B2RAQ5;C9JF50;...  3.055183   \n30      C9JAX1;A0A0S2Z3G4;Q16595;A0A2R8Y5A1;A0A2R8Y4G3...  3.414178   \n31      A0A1W2PP11;H7C0U0;Q9H300;F8WCQ4;A0A1W2PS40;C9J...  3.791680   \n32      A8K2U2;P52789;E9PB90;Q68E10;Q53QX9;Q53SG7;Q09L...  4.519885   \n33                            A8K337;Q86VU5;R4GNF4;B4DY64  2.976208   \n34                     Q96C01;E7EQY1;B0AZT6;C9JF51;C9J2Y4  4.134970   \n35                                          Q96GW9;B4DVV7  3.345541   \n36      E5KS15;Q9UHN1;A0A5F9ZHX9;A0A5F9ZH93;J3QRU9;J3KRM2  5.377718   \n37                                   P36551;H0YA22;D6RER6  4.835818   \n38      Q53HP5;Q53H87;Q59G10;O75891;A0A0S2Z527;A0A077H...  4.051214   \n39      A0A024RAK1;Q969S9;A0A024RAJ7;A0A6M4C975;D6RAL1...  2.542447   \n40                                                 P17568  2.059649   \n41                     Q8N5M1;C9J2Q2;B7Z3V0;K7ELC1;B4DG98  3.287762   \n42                                      A0A024RDQ7;Q9H2K0  3.479607   \n43      Q8IYK4;B4DF84;A0A3B3IT37;B3KT92;Q5SXQ5;B3KXG2;...  3.898378   \n44      A0A384MTT2;A0A0S2Z430;Q16822;Q6IB91;H0YML5;A0A...  2.869233   \n45                                   Q96EX1;L0R6D7;E5RH51  1.542769   \n\nvalues  enrichment     fdr  !enrichment  enrichment differential  \n0        17.687100  [4, 4]     0.480700                17.206400  \n1        18.315000  [4, 4]     1.811600                16.503400  \n2         9.099500  [4, 4]    -3.241900                12.341400  \n3        13.425500  [4, 4]     3.288900                10.136600  \n4        10.381100  [4, 4]     0.451200                 9.929900  \n5         6.503000  [4, 4]    -1.250589                 7.753589  \n6        10.396400  [4, 4]     2.824800                 7.571600  \n7         6.884525  [4, 4]    -0.247994                 7.132518  \n8         5.309651  [4, 4]    -1.636949                 6.946600  \n9         7.941030  [4, 4]     1.145854                 6.795176  \n10        6.952225  [4, 4]     0.579852                 6.372373  \n11        6.233300  [4, 4]     0.126100                 6.107200  \n12        5.606400  [4, 4]    -0.074307                 5.680707  \n13        5.374400  [4, 4]     1.066200                 4.308200  \n14        6.915800  [4, 4]     3.155209                 3.760591  \n15        6.499100  [4, 4]     3.076920                 3.422180  \n16        5.906878  [4, 4]     3.597878                 2.309000  \n17        5.667900  [4, 4]     3.899300                 1.768600  \n18        5.605200  [4, 4]     4.111200                 1.494000  \n19        5.137801  [4, 4]     3.694701                 1.443100  \n20        5.292200  [4, 4]     3.996800                 1.295400  \n21        5.981800  [4, 4]     4.882100                 1.099700  \n22        6.543500  [4, 4]     5.485900                 1.057600  \n23        5.229700  [4, 4]     4.231000                 0.998700  \n24        5.398800  [4, 4]     4.413600                 0.985200  \n25        5.159000  [4, 4]     4.193000                 0.966000  \n26        5.141200  [4, 4]     4.222300                 0.918900  \n27        4.925452  [4, 4]     4.023252                 0.902200  \n28        6.136077  [4, 4]     5.234077                 0.902000  \n29        6.262300  [4, 4]     5.442900                 0.819400  \n30        5.316700  [4, 4]     4.522800                 0.793900  \n31        5.224300  [4, 4]     4.444700                 0.779600  \n32        4.904800  [4, 4]     4.129800                 0.775000  \n33        6.271404  [4, 4]     5.535204                 0.736200  \n34        5.066800  [4, 4]     4.365100                 0.701700  \n35        5.411700  [4, 4]     4.734100                 0.677600  \n36        7.508300  [4, 4]     6.973500                 0.534800  \n37        4.905100  [4, 4]     4.808000                 0.097100  \n38        5.138851  [4, 4]     5.105451                 0.033400  \n39        5.820298  [4, 4]     5.923398                -0.103100  \n40        6.118369  [4, 4]     6.342069                -0.223700  \n41        5.638600  [4, 4]     6.144800                -0.506200  \n42        5.302100  [4, 4]     5.815100                -0.513000  \n43        9.005824  [4, 4]    -0.130730                 9.136553  \n44        5.940100  [4, 4]     5.110300                 0.829800  \n45        6.676588  [4, 4]     5.909288                 0.767300  "
     },
     "execution_count": 84,
     "metadata": {},
     "output_type": "execute_result"
    }
   ],
   "source": [
    "hits"
   ]
  },
  {
   "cell_type": "code",
   "execution_count": 85,
   "metadata": {},
   "outputs": [],
   "source": [
    "hits.to_csv(root+analysis+'TOMM20_interaction_differential.csv')"
   ]
  },
  {
   "cell_type": "code",
   "execution_count": 35,
   "metadata": {},
   "outputs": [],
   "source": [
    "ints = hits[hits['interaction']==True]\n",
    "no_ints = hits[hits['interaction']==False]\n",
    "no_infected = no_ints[no_ints['experiment']=='infected'][['protein_ids', 'enrichment']].rename(columns={'enrichment':'!enrichment'})\n",
    "no_uninfected = no_ints[no_ints['experiment']=='uninfected'][['protein_ids', 'enrichment']].rename(columns={'enrichment':'!enrichment'})"
   ]
  },
  {
   "cell_type": "code",
   "execution_count": 36,
   "metadata": {},
   "outputs": [],
   "source": [
    "ints.drop_duplicates(subset='protein_ids', keep=False, inplace=True)\n",
    "infected = ints[ints['experiment']=='infected']\n",
    "uninfected = ints[ints['experiment']=='uninfected']"
   ]
  },
  {
   "cell_type": "code",
   "execution_count": 20,
   "metadata": {},
   "outputs": [
    {
     "data": {
      "text/html": "<div>\n<style scoped>\n    .dataframe tbody tr th:only-of-type {\n        vertical-align: middle;\n    }\n\n    .dataframe tbody tr th {\n        vertical-align: top;\n    }\n\n    .dataframe thead th {\n        text-align: right;\n    }\n</style>\n<table border=\"1\" class=\"dataframe\">\n  <thead>\n    <tr style=\"text-align: right;\">\n      <th>values</th>\n      <th>experiment</th>\n      <th>target</th>\n      <th>prey</th>\n      <th>protein_ids</th>\n      <th>pvals</th>\n      <th>enrichment</th>\n      <th>fdr</th>\n      <th>interaction</th>\n    </tr>\n  </thead>\n  <tbody>\n    <tr>\n      <th>2105</th>\n      <td>infected</td>\n      <td>LAMP1</td>\n      <td>SH2D3C</td>\n      <td>A8K9K3;Q8N5H7;A8K7M6;Q5JU32;B4DG32;B3KUE2;H0Y5X5</td>\n      <td>3.739095</td>\n      <td>5.204000</td>\n      <td>[4, 4]</td>\n      <td>True</td>\n    </tr>\n    <tr>\n      <th>2864</th>\n      <td>infected</td>\n      <td>LAMP1</td>\n      <td>MDK</td>\n      <td>E9PPJ5;E9PLM6;P21741</td>\n      <td>6.002509</td>\n      <td>5.467900</td>\n      <td>[4, 4]</td>\n      <td>True</td>\n    </tr>\n    <tr>\n      <th>3378</th>\n      <td>infected</td>\n      <td>LAMP1</td>\n      <td>HE</td>\n      <td>OC43_HE</td>\n      <td>3.673382</td>\n      <td>6.373500</td>\n      <td>[4, 4]</td>\n      <td>True</td>\n    </tr>\n    <tr>\n      <th>3379</th>\n      <td>infected</td>\n      <td>LAMP1</td>\n      <td>M</td>\n      <td>OC43_M</td>\n      <td>2.632031</td>\n      <td>19.521100</td>\n      <td>[4, 4]</td>\n      <td>True</td>\n    </tr>\n    <tr>\n      <th>3380</th>\n      <td>infected</td>\n      <td>LAMP1</td>\n      <td>N</td>\n      <td>OC43_N</td>\n      <td>6.148701</td>\n      <td>17.351100</td>\n      <td>[4, 4]</td>\n      <td>True</td>\n    </tr>\n    <tr>\n      <th>3384</th>\n      <td>infected</td>\n      <td>LAMP1</td>\n      <td>NS2</td>\n      <td>OC43_ORF1A_NS2</td>\n      <td>2.879888</td>\n      <td>8.668300</td>\n      <td>[4, 4]</td>\n      <td>True</td>\n    </tr>\n    <tr>\n      <th>3388</th>\n      <td>infected</td>\n      <td>LAMP1</td>\n      <td>NS8</td>\n      <td>OC43_ORF1A_NS8</td>\n      <td>3.931465</td>\n      <td>6.711330</td>\n      <td>[4, 4]</td>\n      <td>True</td>\n    </tr>\n    <tr>\n      <th>3390</th>\n      <td>infected</td>\n      <td>LAMP1</td>\n      <td>PLPRO</td>\n      <td>OC43_ORF1A_PLpro</td>\n      <td>3.603831</td>\n      <td>9.302500</td>\n      <td>[4, 4]</td>\n      <td>True</td>\n    </tr>\n    <tr>\n      <th>3396</th>\n      <td>infected</td>\n      <td>LAMP1</td>\n      <td>S</td>\n      <td>OC43_S</td>\n      <td>4.263428</td>\n      <td>11.396600</td>\n      <td>[4, 4]</td>\n      <td>True</td>\n    </tr>\n    <tr>\n      <th>4229</th>\n      <td>infected</td>\n      <td>LAMP1</td>\n      <td>COA6</td>\n      <td>Q5JTJ3</td>\n      <td>4.769038</td>\n      <td>5.504288</td>\n      <td>[4, 4]</td>\n      <td>True</td>\n    </tr>\n    <tr>\n      <th>5239</th>\n      <td>infected</td>\n      <td>LAMP1</td>\n      <td>BSDC1</td>\n      <td>Q9NW68;B4DM89;B7ZA57;E9PS77;E9PQA7;F8W6C6;E9PN...</td>\n      <td>4.903435</td>\n      <td>4.941200</td>\n      <td>[4, 4]</td>\n      <td>True</td>\n    </tr>\n  </tbody>\n</table>\n</div>",
      "text/plain": "values experiment target    prey  \\\n2105     infected  LAMP1  SH2D3C   \n2864     infected  LAMP1     MDK   \n3378     infected  LAMP1      HE   \n3379     infected  LAMP1       M   \n3380     infected  LAMP1       N   \n3384     infected  LAMP1     NS2   \n3388     infected  LAMP1     NS8   \n3390     infected  LAMP1   PLPRO   \n3396     infected  LAMP1       S   \n4229     infected  LAMP1    COA6   \n5239     infected  LAMP1   BSDC1   \n\nvalues                                        protein_ids     pvals  \\\n2105     A8K9K3;Q8N5H7;A8K7M6;Q5JU32;B4DG32;B3KUE2;H0Y5X5  3.739095   \n2864                                 E9PPJ5;E9PLM6;P21741  6.002509   \n3378                                              OC43_HE  3.673382   \n3379                                               OC43_M  2.632031   \n3380                                               OC43_N  6.148701   \n3384                                       OC43_ORF1A_NS2  2.879888   \n3388                                       OC43_ORF1A_NS8  3.931465   \n3390                                     OC43_ORF1A_PLpro  3.603831   \n3396                                               OC43_S  4.263428   \n4229                                               Q5JTJ3  4.769038   \n5239    Q9NW68;B4DM89;B7ZA57;E9PS77;E9PQA7;F8W6C6;E9PN...  4.903435   \n\nvalues  enrichment     fdr  interaction  \n2105      5.204000  [4, 4]         True  \n2864      5.467900  [4, 4]         True  \n3378      6.373500  [4, 4]         True  \n3379     19.521100  [4, 4]         True  \n3380     17.351100  [4, 4]         True  \n3384      8.668300  [4, 4]         True  \n3388      6.711330  [4, 4]         True  \n3390      9.302500  [4, 4]         True  \n3396     11.396600  [4, 4]         True  \n4229      5.504288  [4, 4]         True  \n5239      4.941200  [4, 4]         True  "
     },
     "execution_count": 20,
     "metadata": {},
     "output_type": "execute_result"
    }
   ],
   "source": [
    "infected"
   ]
  },
  {
   "cell_type": "code",
   "execution_count": 37,
   "metadata": {},
   "outputs": [],
   "source": [
    "inf_merge = infected.merge(no_uninfected, on='protein_ids', how='left')\n",
    "uninf_merge = uninfected.merge(no_infected, on='protein_ids', how='left')"
   ]
  },
  {
   "cell_type": "code",
   "execution_count": 42,
   "metadata": {},
   "outputs": [],
   "source": [
    "final = pd.concat([inf_merge, uninf_merge]).drop(columns=['interaction']).reset_index(drop=True)\n",
    "final['enrichment differential'] = final['enrichment'] - final['!enrichment']"
   ]
  },
  {
   "cell_type": "code",
   "execution_count": 43,
   "metadata": {},
   "outputs": [
    {
     "data": {
      "text/html": "<div>\n<style scoped>\n    .dataframe tbody tr th:only-of-type {\n        vertical-align: middle;\n    }\n\n    .dataframe tbody tr th {\n        vertical-align: top;\n    }\n\n    .dataframe thead th {\n        text-align: right;\n    }\n</style>\n<table border=\"1\" class=\"dataframe\">\n  <thead>\n    <tr style=\"text-align: right;\">\n      <th>values</th>\n      <th>experiment</th>\n      <th>target</th>\n      <th>prey</th>\n      <th>protein_ids</th>\n      <th>pvals</th>\n      <th>enrichment</th>\n      <th>fdr</th>\n      <th>!enrichment</th>\n      <th>enrichment differential</th>\n    </tr>\n  </thead>\n  <tbody>\n    <tr>\n      <th>0</th>\n      <td>infected</td>\n      <td>LAMP1</td>\n      <td>SH2D3C</td>\n      <td>A8K9K3;Q8N5H7;A8K7M6;Q5JU32;B4DG32;B3KUE2;H0Y5X5</td>\n      <td>3.739095</td>\n      <td>5.204000</td>\n      <td>[4, 4]</td>\n      <td>2.613000</td>\n      <td>2.591000</td>\n    </tr>\n    <tr>\n      <th>1</th>\n      <td>infected</td>\n      <td>LAMP1</td>\n      <td>MDK</td>\n      <td>E9PPJ5;E9PLM6;P21741</td>\n      <td>6.002509</td>\n      <td>5.467900</td>\n      <td>[4, 4]</td>\n      <td>2.414000</td>\n      <td>3.053900</td>\n    </tr>\n    <tr>\n      <th>2</th>\n      <td>infected</td>\n      <td>LAMP1</td>\n      <td>HE</td>\n      <td>OC43_HE</td>\n      <td>3.673382</td>\n      <td>6.373500</td>\n      <td>[4, 4]</td>\n      <td>-1.652837</td>\n      <td>8.026337</td>\n    </tr>\n    <tr>\n      <th>3</th>\n      <td>infected</td>\n      <td>LAMP1</td>\n      <td>M</td>\n      <td>OC43_M</td>\n      <td>2.632031</td>\n      <td>19.521100</td>\n      <td>[4, 4]</td>\n      <td>2.590700</td>\n      <td>16.930400</td>\n    </tr>\n    <tr>\n      <th>4</th>\n      <td>infected</td>\n      <td>LAMP1</td>\n      <td>N</td>\n      <td>OC43_N</td>\n      <td>6.148701</td>\n      <td>17.351100</td>\n      <td>[4, 4]</td>\n      <td>-1.257300</td>\n      <td>18.608400</td>\n    </tr>\n    <tr>\n      <th>5</th>\n      <td>infected</td>\n      <td>LAMP1</td>\n      <td>NS2</td>\n      <td>OC43_ORF1A_NS2</td>\n      <td>2.879888</td>\n      <td>8.668300</td>\n      <td>[4, 4]</td>\n      <td>1.369700</td>\n      <td>7.298600</td>\n    </tr>\n    <tr>\n      <th>6</th>\n      <td>infected</td>\n      <td>LAMP1</td>\n      <td>NS8</td>\n      <td>OC43_ORF1A_NS8</td>\n      <td>3.931465</td>\n      <td>6.711330</td>\n      <td>[4, 4]</td>\n      <td>0.749638</td>\n      <td>5.961691</td>\n    </tr>\n    <tr>\n      <th>7</th>\n      <td>infected</td>\n      <td>LAMP1</td>\n      <td>PLPRO</td>\n      <td>OC43_ORF1A_PLpro</td>\n      <td>3.603831</td>\n      <td>9.302500</td>\n      <td>[4, 4]</td>\n      <td>2.170100</td>\n      <td>7.132400</td>\n    </tr>\n    <tr>\n      <th>8</th>\n      <td>infected</td>\n      <td>LAMP1</td>\n      <td>S</td>\n      <td>OC43_S</td>\n      <td>4.263428</td>\n      <td>11.396600</td>\n      <td>[4, 4]</td>\n      <td>-0.462200</td>\n      <td>11.858800</td>\n    </tr>\n    <tr>\n      <th>9</th>\n      <td>infected</td>\n      <td>LAMP1</td>\n      <td>COA6</td>\n      <td>Q5JTJ3</td>\n      <td>4.769038</td>\n      <td>5.504288</td>\n      <td>[4, 4]</td>\n      <td>0.213333</td>\n      <td>5.290955</td>\n    </tr>\n    <tr>\n      <th>10</th>\n      <td>infected</td>\n      <td>LAMP1</td>\n      <td>BSDC1</td>\n      <td>Q9NW68;B4DM89;B7ZA57;E9PS77;E9PQA7;F8W6C6;E9PN...</td>\n      <td>4.903435</td>\n      <td>4.941200</td>\n      <td>[4, 4]</td>\n      <td>1.908300</td>\n      <td>3.032900</td>\n    </tr>\n    <tr>\n      <th>11</th>\n      <td>uninfected</td>\n      <td>LAMP1</td>\n      <td>GALC</td>\n      <td>A0A024R6E8;A0A0A0MQV0;P54803;A0A087WX10;B4DFD1...</td>\n      <td>4.620184</td>\n      <td>4.973181</td>\n      <td>[4, 4]</td>\n      <td>5.159281</td>\n      <td>-0.186100</td>\n    </tr>\n    <tr>\n      <th>12</th>\n      <td>uninfected</td>\n      <td>LAMP1</td>\n      <td>MANBA</td>\n      <td>A8K6D3;O00462;A0A2R8YEC9;E9PFW2;B4DT18;A7LFP5;...</td>\n      <td>3.557313</td>\n      <td>5.650300</td>\n      <td>[4, 4]</td>\n      <td>1.998700</td>\n      <td>3.651600</td>\n    </tr>\n    <tr>\n      <th>13</th>\n      <td>uninfected</td>\n      <td>LAMP1</td>\n      <td>ARSK</td>\n      <td>Q6UWY0;E9PGI0;B7ZAD8;H0Y9F6;D6RBR4;Q86W75</td>\n      <td>3.639367</td>\n      <td>5.522500</td>\n      <td>[4, 4]</td>\n      <td>3.954400</td>\n      <td>1.568100</td>\n    </tr>\n    <tr>\n      <th>14</th>\n      <td>uninfected</td>\n      <td>LAMP1</td>\n      <td>COLGALT2;GLT25D2</td>\n      <td>Q8IYK4;B4DF84;A0A3B3IT37;B3KT92;Q5SXQ5;B3KXG2;...</td>\n      <td>0.960498</td>\n      <td>8.700924</td>\n      <td>[4, 4]</td>\n      <td>0.772829</td>\n      <td>7.928095</td>\n    </tr>\n    <tr>\n      <th>15</th>\n      <td>uninfected</td>\n      <td>LAMP1</td>\n      <td>SMCR8</td>\n      <td>Q8TEV9;B4DL51</td>\n      <td>3.035434</td>\n      <td>5.481100</td>\n      <td>[4, 4]</td>\n      <td>1.142100</td>\n      <td>4.339000</td>\n    </tr>\n    <tr>\n      <th>16</th>\n      <td>uninfected</td>\n      <td>LAMP1</td>\n      <td>SLC2A6</td>\n      <td>Q9UGQ3;B4DH85;F2Z2F6</td>\n      <td>3.011858</td>\n      <td>5.505952</td>\n      <td>[4, 4]</td>\n      <td>4.813152</td>\n      <td>0.692800</td>\n    </tr>\n  </tbody>\n</table>\n</div>",
      "text/plain": "values  experiment target              prey  \\\n0         infected  LAMP1            SH2D3C   \n1         infected  LAMP1               MDK   \n2         infected  LAMP1                HE   \n3         infected  LAMP1                 M   \n4         infected  LAMP1                 N   \n5         infected  LAMP1               NS2   \n6         infected  LAMP1               NS8   \n7         infected  LAMP1             PLPRO   \n8         infected  LAMP1                 S   \n9         infected  LAMP1              COA6   \n10        infected  LAMP1             BSDC1   \n11      uninfected  LAMP1              GALC   \n12      uninfected  LAMP1             MANBA   \n13      uninfected  LAMP1              ARSK   \n14      uninfected  LAMP1  COLGALT2;GLT25D2   \n15      uninfected  LAMP1             SMCR8   \n16      uninfected  LAMP1            SLC2A6   \n\nvalues                                        protein_ids     pvals  \\\n0        A8K9K3;Q8N5H7;A8K7M6;Q5JU32;B4DG32;B3KUE2;H0Y5X5  3.739095   \n1                                    E9PPJ5;E9PLM6;P21741  6.002509   \n2                                                 OC43_HE  3.673382   \n3                                                  OC43_M  2.632031   \n4                                                  OC43_N  6.148701   \n5                                          OC43_ORF1A_NS2  2.879888   \n6                                          OC43_ORF1A_NS8  3.931465   \n7                                        OC43_ORF1A_PLpro  3.603831   \n8                                                  OC43_S  4.263428   \n9                                                  Q5JTJ3  4.769038   \n10      Q9NW68;B4DM89;B7ZA57;E9PS77;E9PQA7;F8W6C6;E9PN...  4.903435   \n11      A0A024R6E8;A0A0A0MQV0;P54803;A0A087WX10;B4DFD1...  4.620184   \n12      A8K6D3;O00462;A0A2R8YEC9;E9PFW2;B4DT18;A7LFP5;...  3.557313   \n13              Q6UWY0;E9PGI0;B7ZAD8;H0Y9F6;D6RBR4;Q86W75  3.639367   \n14      Q8IYK4;B4DF84;A0A3B3IT37;B3KT92;Q5SXQ5;B3KXG2;...  0.960498   \n15                                          Q8TEV9;B4DL51  3.035434   \n16                                   Q9UGQ3;B4DH85;F2Z2F6  3.011858   \n\nvalues  enrichment     fdr  !enrichment  enrichment differential  \n0         5.204000  [4, 4]     2.613000                 2.591000  \n1         5.467900  [4, 4]     2.414000                 3.053900  \n2         6.373500  [4, 4]    -1.652837                 8.026337  \n3        19.521100  [4, 4]     2.590700                16.930400  \n4        17.351100  [4, 4]    -1.257300                18.608400  \n5         8.668300  [4, 4]     1.369700                 7.298600  \n6         6.711330  [4, 4]     0.749638                 5.961691  \n7         9.302500  [4, 4]     2.170100                 7.132400  \n8        11.396600  [4, 4]    -0.462200                11.858800  \n9         5.504288  [4, 4]     0.213333                 5.290955  \n10        4.941200  [4, 4]     1.908300                 3.032900  \n11        4.973181  [4, 4]     5.159281                -0.186100  \n12        5.650300  [4, 4]     1.998700                 3.651600  \n13        5.522500  [4, 4]     3.954400                 1.568100  \n14        8.700924  [4, 4]     0.772829                 7.928095  \n15        5.481100  [4, 4]     1.142100                 4.339000  \n16        5.505952  [4, 4]     4.813152                 0.692800  "
     },
     "execution_count": 43,
     "metadata": {},
     "output_type": "execute_result"
    }
   ],
   "source": [
    "final"
   ]
  },
  {
   "cell_type": "code",
   "execution_count": null,
   "metadata": {},
   "outputs": [],
   "source": []
  }
 ],
 "metadata": {
  "kernelspec": {
   "display_name": "Python 3.9.6 64-bit ('pyseus': conda)",
   "metadata": {
    "interpreter": {
     "hash": "ee971e08937c9fb38180031bf459d0106ca83660cc3989b008862cd0fc74ea12"
    }
   },
   "name": "python3"
  },
  "language_info": {
   "codemirror_mode": {
    "name": "ipython",
    "version": 3
   },
   "file_extension": ".py",
   "mimetype": "text/x-python",
   "name": "python",
   "nbconvert_exporter": "python",
   "pygments_lexer": "ipython3",
   "version": "3.9.6"
  },
  "orig_nbformat": 2
 },
 "nbformat": 4,
 "nbformat_minor": 2
}
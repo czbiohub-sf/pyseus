{
 "cells": [
  {
   "cell_type": "code",
   "execution_count": 2,
   "metadata": {},
   "outputs": [
    {
     "data": {
      "text/html": [
       "<style>.container { width:100% !important; }</style>"
      ],
      "text/plain": [
       "<IPython.core.display.HTML object>"
      ]
     },
     "metadata": {},
     "output_type": "display_data"
    }
   ],
   "source": [
    "import matplotlib\n",
    "import os\n",
    "import sys\n",
    "sys.path.append('../')\n",
    "from pyseus.plotting import plotly_heatmap as phm\n",
    "import pandas as pd\n",
    "import plotly.offline\n",
    "from plotly import graph_objs as go\n",
    "import seaborn as sns\n",
    "\n",
    "# Make notebook a full width\n",
    "from IPython.core.display import display, HTML\n",
    "display(HTML(\"<style>.container { width:100% !important; }</style>\"))"
   ]
  },
  {
   "cell_type": "markdown",
   "metadata": {},
   "source": [
    "## Import the imputed DF"
   ]
  },
  {
   "cell_type": "code",
   "execution_count": 47,
   "metadata": {},
   "outputs": [],
   "source": [
    "root = '../data/20210719_Infected_Cell_All_Samples/'\n",
    "analysis = '20210726/'\n",
    "imputed = pd.read_csv(root + analysis + 'imputed_table.csv', header=[0,1], index_col=0)\n",
    "\n",
    "features = [col[1] for col in list(imputed) if col[0] != 'metadata']\n",
    "metadata = [col[1] for col in list(imputed) if col[0] == 'metadata']\n",
    "imputed = imputed.droplevel('Samples', axis=1)"
   ]
  },
  {
   "cell_type": "markdown",
   "metadata": {},
   "source": [
    "### Transform prey intensities to (intensity - prey median)"
   ]
  },
  {
   "cell_type": "code",
   "execution_count": 58,
   "metadata": {},
   "outputs": [
    {
     "data": {
      "text/plain": [
       "<module 'pyseus.plotting.plotly_heatmap' from '/Users/kibeom.kim/Documents/GitHub/pyseus/notebooks/../pyseus/plotting/plotly_heatmap.py'>"
      ]
     },
     "execution_count": 58,
     "metadata": {},
     "output_type": "execute_result"
    }
   ],
   "source": [
    "import imp\n",
    "imp.reload(phm)"
   ]
  },
  {
   "cell_type": "code",
   "execution_count": 50,
   "metadata": {},
   "outputs": [],
   "source": [
    "transformed = phm.subtract_prey_median(imputed , features=features, metadata=metadata,\n",
    "    mad_mod=True, mad_factor=1)"
   ]
  },
  {
   "cell_type": "markdown",
   "metadata": {},
   "source": [
    "### If you DO NOT want the normalization, run the snippet below"
   ]
  },
  {
   "cell_type": "code",
   "execution_count": null,
   "metadata": {},
   "outputs": [],
   "source": [
    "transformed = imputed.copy()"
   ]
  },
  {
   "cell_type": "markdown",
   "metadata": {},
   "source": [
    "## Plotting Function"
   ]
  },
  {
   "cell_type": "code",
   "execution_count": 62,
   "metadata": {},
   "outputs": [
    {
     "data": {
      "application/vnd.plotly.v1+json": {
       "config": {
        "plotlyServerURL": "https://plot.ly"
       },
       "data": [
        {
         "colorscale": [
          [
           0,
           "#000000"
          ],
          [
           0.14285714285714285,
           "#0000b4"
          ],
          [
           0.2857142857142857,
           "#003791"
          ],
          [
           0.42857142857142855,
           "#239100"
          ],
          [
           0.5714285714285714,
           "#dcee00"
          ],
          [
           0.7142857142857143,
           "#ffcc00"
          ],
          [
           0.8571428571428571,
           "#ff7400"
          ],
          [
           1,
           "#ff0000"
          ]
         ],
         "showscale": false,
         "type": "heatmap",
         "x": [
          0,
          0.01507537688442211,
          0.03015075376884422,
          0.04522613065326633,
          0.06030150753768844,
          0.07537688442211055,
          0.09045226130653267,
          0.10552763819095477,
          0.12060301507537688,
          0.135678391959799,
          0.1507537688442211,
          0.1658291457286432,
          0.18090452261306533,
          0.19597989949748743,
          0.21105527638190955,
          0.22613065326633164,
          0.24120603015075376,
          0.2562814070351759,
          0.271356783919598,
          0.28643216080402006,
          0.3015075376884422,
          0.3165829145728643,
          0.3316582914572864,
          0.34673366834170855,
          0.36180904522613067,
          0.37688442211055273,
          0.39195979899497485,
          0.40703517587939697,
          0.4221105527638191,
          0.4371859296482412,
          0.4522613065326633,
          0.4673366834170854,
          0.4824120603015075,
          0.49748743718592964,
          0.5125628140703518,
          0.5276381909547738,
          0.542713567839196,
          0.5577889447236181,
          0.5728643216080401,
          0.5879396984924623,
          0.6030150753768844,
          0.6180904522613065,
          0.6331658291457286,
          0.6482412060301507,
          0.6633165829145728,
          0.6783919597989949,
          0.6934673366834171,
          0.7085427135678392,
          0.7236180904522613,
          0.7386934673366834,
          0.7537688442211055,
          0.7688442211055276,
          0.7839195979899497,
          0.7989949748743719,
          0.8140703517587939,
          0.829145728643216,
          0.8442211055276382,
          0.8592964824120602,
          0.8743718592964824,
          0.8894472361809045,
          0.9045226130653266,
          0.9195979899497487,
          0.9346733668341708,
          0.949748743718593,
          0.964824120603015,
          0.9798994974874371,
          0.9949748743718593,
          1.0100502512562815,
          1.0251256281407035,
          1.0402010050251256,
          1.0552763819095476,
          1.0703517587939697,
          1.085427135678392,
          1.100502512562814,
          1.1155778894472361,
          1.1306532663316582,
          1.1457286432160803,
          1.1608040201005025,
          1.1758793969849246,
          1.1909547738693467,
          1.2060301507537687,
          1.2211055276381908,
          1.236180904522613,
          1.2512562814070352,
          1.2663316582914572,
          1.2814070351758793,
          1.2964824120603013,
          1.3115577889447236,
          1.3266331658291457,
          1.3417085427135678,
          1.3567839195979898,
          1.371859296482412,
          1.3869346733668342,
          1.4020100502512562,
          1.4170854271356783,
          1.4321608040201004,
          1.4472361809045227,
          1.4623115577889447,
          1.4773869346733668,
          1.4924623115577889,
          1.507537688442211,
          1.5226130653266332,
          1.5376884422110553,
          1.5527638190954773,
          1.5678391959798994,
          1.5829145728643215,
          1.5979899497487438,
          1.6130653266331658,
          1.6281407035175879,
          1.64321608040201,
          1.658291457286432,
          1.6733668341708543,
          1.6884422110552764,
          1.7035175879396984,
          1.7185929648241205,
          1.7336683417085426,
          1.7487437185929648,
          1.763819095477387,
          1.778894472361809,
          1.793969849246231,
          1.809045226130653,
          1.8241206030150754,
          1.8391959798994975,
          1.8542713567839195,
          1.8693467336683416,
          1.8844221105527637,
          1.899497487437186,
          1.914572864321608,
          1.92964824120603,
          1.9447236180904521,
          1.9597989949748742,
          1.9748743718592965,
          1.9899497487437185,
          2.0050251256281406,
          2.020100502512563,
          2.0351758793969847,
          2.050251256281407,
          2.065326633165829,
          2.080402010050251,
          2.0954773869346734,
          2.1105527638190953,
          2.1256281407035176,
          2.1407035175879394,
          2.1557788944723617,
          2.170854271356784,
          2.185929648241206,
          2.201005025125628,
          2.21608040201005,
          2.2311557788944723,
          2.2462311557788945,
          2.2613065326633164,
          2.2763819095477387,
          2.2914572864321605,
          2.306532663316583,
          2.321608040201005,
          2.336683417085427,
          2.351758793969849,
          2.366834170854271,
          2.3819095477386933,
          2.3969849246231156,
          2.4120603015075375,
          2.4271356783919598,
          2.4422110552763816,
          2.457286432160804,
          2.472361809045226,
          2.487437185929648,
          2.5025125628140703,
          2.517587939698492,
          2.5326633165829144,
          2.5477386934673367,
          2.5628140703517586,
          2.577889447236181,
          2.5929648241206027,
          2.608040201005025,
          2.6231155778894473,
          2.638190954773869,
          2.6532663316582914,
          2.6683417085427132,
          2.6834170854271355,
          2.698492462311558,
          2.7135678391959797,
          2.728643216080402,
          2.743718592964824,
          2.758793969849246,
          2.7738693467336684,
          2.78894472361809,
          2.8040201005025125,
          2.8190954773869343,
          2.8341708542713566,
          2.849246231155779,
          2.8643216080402008,
          2.879396984924623,
          2.8944723618090453,
          2.909547738693467,
          2.9246231155778895,
          2.9396984924623113,
          2.9547738693467336,
          2.969849246231156,
          2.9849246231155777,
          3
         ],
         "y": [
          0,
          0,
          0,
          0,
          0,
          0,
          0,
          0,
          0,
          0,
          0,
          0,
          0,
          0,
          0,
          0,
          0,
          0,
          0,
          0,
          0,
          0,
          0,
          0,
          0,
          0,
          0,
          0,
          0,
          0,
          0,
          0,
          0,
          0,
          0,
          0,
          0,
          0,
          0,
          0,
          0,
          0,
          0,
          0,
          0,
          0,
          0,
          0,
          0,
          0,
          0,
          0,
          0,
          0,
          0,
          0,
          0,
          0,
          0,
          0,
          0,
          0,
          0,
          0,
          0,
          0,
          0,
          0,
          0,
          0,
          0,
          0,
          0,
          0,
          0,
          0,
          0,
          0,
          0,
          0,
          0,
          0,
          0,
          0,
          0,
          0,
          0,
          0,
          0,
          0,
          0,
          0,
          0,
          0,
          0,
          0,
          0,
          0,
          0,
          0,
          0,
          0,
          0,
          0,
          0,
          0,
          0,
          0,
          0,
          0,
          0,
          0,
          0,
          0,
          0,
          0,
          0,
          0,
          0,
          0,
          0,
          0,
          0,
          0,
          0,
          0,
          0,
          0,
          0,
          0,
          0,
          0,
          0,
          0,
          0,
          0,
          0,
          0,
          0,
          0,
          0,
          0,
          0,
          0,
          0,
          0,
          0,
          0,
          0,
          0,
          0,
          0,
          0,
          0,
          0,
          0,
          0,
          0,
          0,
          0,
          0,
          0,
          0,
          0,
          0,
          0,
          0,
          0,
          0,
          0,
          0,
          0,
          0,
          0,
          0,
          0,
          0,
          0,
          0,
          0,
          0,
          0,
          0,
          0,
          0,
          0,
          0,
          0,
          0,
          0,
          0,
          0,
          0,
          0,
          0,
          0,
          0,
          0,
          0,
          0
         ],
         "z": [
          0,
          0.01507537688442211,
          0.03015075376884422,
          0.04522613065326633,
          0.06030150753768844,
          0.07537688442211055,
          0.09045226130653267,
          0.10552763819095477,
          0.12060301507537688,
          0.135678391959799,
          0.1507537688442211,
          0.1658291457286432,
          0.18090452261306533,
          0.19597989949748743,
          0.21105527638190955,
          0.22613065326633164,
          0.24120603015075376,
          0.2562814070351759,
          0.271356783919598,
          0.28643216080402006,
          0.3015075376884422,
          0.3165829145728643,
          0.3316582914572864,
          0.34673366834170855,
          0.36180904522613067,
          0.37688442211055273,
          0.39195979899497485,
          0.40703517587939697,
          0.4221105527638191,
          0.4371859296482412,
          0.4522613065326633,
          0.4673366834170854,
          0.4824120603015075,
          0.49748743718592964,
          0.5125628140703518,
          0.5276381909547738,
          0.542713567839196,
          0.5577889447236181,
          0.5728643216080401,
          0.5879396984924623,
          0.6030150753768844,
          0.6180904522613065,
          0.6331658291457286,
          0.6482412060301507,
          0.6633165829145728,
          0.6783919597989949,
          0.6934673366834171,
          0.7085427135678392,
          0.7236180904522613,
          0.7386934673366834,
          0.7537688442211055,
          0.7688442211055276,
          0.7839195979899497,
          0.7989949748743719,
          0.8140703517587939,
          0.829145728643216,
          0.8442211055276382,
          0.8592964824120602,
          0.8743718592964824,
          0.8894472361809045,
          0.9045226130653266,
          0.9195979899497487,
          0.9346733668341708,
          0.949748743718593,
          0.964824120603015,
          0.9798994974874371,
          0.9949748743718593,
          1.0100502512562815,
          1.0251256281407035,
          1.0402010050251256,
          1.0552763819095476,
          1.0703517587939697,
          1.085427135678392,
          1.100502512562814,
          1.1155778894472361,
          1.1306532663316582,
          1.1457286432160803,
          1.1608040201005025,
          1.1758793969849246,
          1.1909547738693467,
          1.2060301507537687,
          1.2211055276381908,
          1.236180904522613,
          1.2512562814070352,
          1.2663316582914572,
          1.2814070351758793,
          1.2964824120603013,
          1.3115577889447236,
          1.3266331658291457,
          1.3417085427135678,
          1.3567839195979898,
          1.371859296482412,
          1.3869346733668342,
          1.4020100502512562,
          1.4170854271356783,
          1.4321608040201004,
          1.4472361809045227,
          1.4623115577889447,
          1.4773869346733668,
          1.4924623115577889,
          1.507537688442211,
          1.5226130653266332,
          1.5376884422110553,
          1.5527638190954773,
          1.5678391959798994,
          1.5829145728643215,
          1.5979899497487438,
          1.6130653266331658,
          1.6281407035175879,
          1.64321608040201,
          1.658291457286432,
          1.6733668341708543,
          1.6884422110552764,
          1.7035175879396984,
          1.7185929648241205,
          1.7336683417085426,
          1.7487437185929648,
          1.763819095477387,
          1.778894472361809,
          1.793969849246231,
          1.809045226130653,
          1.8241206030150754,
          1.8391959798994975,
          1.8542713567839195,
          1.8693467336683416,
          1.8844221105527637,
          1.899497487437186,
          1.914572864321608,
          1.92964824120603,
          1.9447236180904521,
          1.9597989949748742,
          1.9748743718592965,
          1.9899497487437185,
          2.0050251256281406,
          2.020100502512563,
          2.0351758793969847,
          2.050251256281407,
          2.065326633165829,
          2.080402010050251,
          2.0954773869346734,
          2.1105527638190953,
          2.1256281407035176,
          2.1407035175879394,
          2.1557788944723617,
          2.170854271356784,
          2.185929648241206,
          2.201005025125628,
          2.21608040201005,
          2.2311557788944723,
          2.2462311557788945,
          2.2613065326633164,
          2.2763819095477387,
          2.2914572864321605,
          2.306532663316583,
          2.321608040201005,
          2.336683417085427,
          2.351758793969849,
          2.366834170854271,
          2.3819095477386933,
          2.3969849246231156,
          2.4120603015075375,
          2.4271356783919598,
          2.4422110552763816,
          2.457286432160804,
          2.472361809045226,
          2.487437185929648,
          2.5025125628140703,
          2.517587939698492,
          2.5326633165829144,
          2.5477386934673367,
          2.5628140703517586,
          2.577889447236181,
          2.5929648241206027,
          2.608040201005025,
          2.6231155778894473,
          2.638190954773869,
          2.6532663316582914,
          2.6683417085427132,
          2.6834170854271355,
          2.698492462311558,
          2.7135678391959797,
          2.728643216080402,
          2.743718592964824,
          2.758793969849246,
          2.7738693467336684,
          2.78894472361809,
          2.8040201005025125,
          2.8190954773869343,
          2.8341708542713566,
          2.849246231155779,
          2.8643216080402008,
          2.879396984924623,
          2.8944723618090453,
          2.909547738693467,
          2.9246231155778895,
          2.9396984924623113,
          2.9547738693467336,
          2.969849246231156,
          2.9849246231155777,
          3
         ],
         "zmax": 3,
         "zmin": 0
        }
       ],
       "layout": {
        "height": 50,
        "margin": {
         "b": 0,
         "l": 0,
         "r": 0,
         "t": 0
        },
        "template": {
         "data": {
          "bar": [
           {
            "error_x": {
             "color": "#2a3f5f"
            },
            "error_y": {
             "color": "#2a3f5f"
            },
            "marker": {
             "line": {
              "color": "#E5ECF6",
              "width": 0.5
             },
             "pattern": {
              "fillmode": "overlay",
              "size": 10,
              "solidity": 0.2
             }
            },
            "type": "bar"
           }
          ],
          "barpolar": [
           {
            "marker": {
             "line": {
              "color": "#E5ECF6",
              "width": 0.5
             },
             "pattern": {
              "fillmode": "overlay",
              "size": 10,
              "solidity": 0.2
             }
            },
            "type": "barpolar"
           }
          ],
          "carpet": [
           {
            "aaxis": {
             "endlinecolor": "#2a3f5f",
             "gridcolor": "white",
             "linecolor": "white",
             "minorgridcolor": "white",
             "startlinecolor": "#2a3f5f"
            },
            "baxis": {
             "endlinecolor": "#2a3f5f",
             "gridcolor": "white",
             "linecolor": "white",
             "minorgridcolor": "white",
             "startlinecolor": "#2a3f5f"
            },
            "type": "carpet"
           }
          ],
          "choropleth": [
           {
            "colorbar": {
             "outlinewidth": 0,
             "ticks": ""
            },
            "type": "choropleth"
           }
          ],
          "contour": [
           {
            "colorbar": {
             "outlinewidth": 0,
             "ticks": ""
            },
            "colorscale": [
             [
              0,
              "#0d0887"
             ],
             [
              0.1111111111111111,
              "#46039f"
             ],
             [
              0.2222222222222222,
              "#7201a8"
             ],
             [
              0.3333333333333333,
              "#9c179e"
             ],
             [
              0.4444444444444444,
              "#bd3786"
             ],
             [
              0.5555555555555556,
              "#d8576b"
             ],
             [
              0.6666666666666666,
              "#ed7953"
             ],
             [
              0.7777777777777778,
              "#fb9f3a"
             ],
             [
              0.8888888888888888,
              "#fdca26"
             ],
             [
              1,
              "#f0f921"
             ]
            ],
            "type": "contour"
           }
          ],
          "contourcarpet": [
           {
            "colorbar": {
             "outlinewidth": 0,
             "ticks": ""
            },
            "type": "contourcarpet"
           }
          ],
          "heatmap": [
           {
            "colorbar": {
             "outlinewidth": 0,
             "ticks": ""
            },
            "colorscale": [
             [
              0,
              "#0d0887"
             ],
             [
              0.1111111111111111,
              "#46039f"
             ],
             [
              0.2222222222222222,
              "#7201a8"
             ],
             [
              0.3333333333333333,
              "#9c179e"
             ],
             [
              0.4444444444444444,
              "#bd3786"
             ],
             [
              0.5555555555555556,
              "#d8576b"
             ],
             [
              0.6666666666666666,
              "#ed7953"
             ],
             [
              0.7777777777777778,
              "#fb9f3a"
             ],
             [
              0.8888888888888888,
              "#fdca26"
             ],
             [
              1,
              "#f0f921"
             ]
            ],
            "type": "heatmap"
           }
          ],
          "heatmapgl": [
           {
            "colorbar": {
             "outlinewidth": 0,
             "ticks": ""
            },
            "colorscale": [
             [
              0,
              "#0d0887"
             ],
             [
              0.1111111111111111,
              "#46039f"
             ],
             [
              0.2222222222222222,
              "#7201a8"
             ],
             [
              0.3333333333333333,
              "#9c179e"
             ],
             [
              0.4444444444444444,
              "#bd3786"
             ],
             [
              0.5555555555555556,
              "#d8576b"
             ],
             [
              0.6666666666666666,
              "#ed7953"
             ],
             [
              0.7777777777777778,
              "#fb9f3a"
             ],
             [
              0.8888888888888888,
              "#fdca26"
             ],
             [
              1,
              "#f0f921"
             ]
            ],
            "type": "heatmapgl"
           }
          ],
          "histogram": [
           {
            "marker": {
             "pattern": {
              "fillmode": "overlay",
              "size": 10,
              "solidity": 0.2
             }
            },
            "type": "histogram"
           }
          ],
          "histogram2d": [
           {
            "colorbar": {
             "outlinewidth": 0,
             "ticks": ""
            },
            "colorscale": [
             [
              0,
              "#0d0887"
             ],
             [
              0.1111111111111111,
              "#46039f"
             ],
             [
              0.2222222222222222,
              "#7201a8"
             ],
             [
              0.3333333333333333,
              "#9c179e"
             ],
             [
              0.4444444444444444,
              "#bd3786"
             ],
             [
              0.5555555555555556,
              "#d8576b"
             ],
             [
              0.6666666666666666,
              "#ed7953"
             ],
             [
              0.7777777777777778,
              "#fb9f3a"
             ],
             [
              0.8888888888888888,
              "#fdca26"
             ],
             [
              1,
              "#f0f921"
             ]
            ],
            "type": "histogram2d"
           }
          ],
          "histogram2dcontour": [
           {
            "colorbar": {
             "outlinewidth": 0,
             "ticks": ""
            },
            "colorscale": [
             [
              0,
              "#0d0887"
             ],
             [
              0.1111111111111111,
              "#46039f"
             ],
             [
              0.2222222222222222,
              "#7201a8"
             ],
             [
              0.3333333333333333,
              "#9c179e"
             ],
             [
              0.4444444444444444,
              "#bd3786"
             ],
             [
              0.5555555555555556,
              "#d8576b"
             ],
             [
              0.6666666666666666,
              "#ed7953"
             ],
             [
              0.7777777777777778,
              "#fb9f3a"
             ],
             [
              0.8888888888888888,
              "#fdca26"
             ],
             [
              1,
              "#f0f921"
             ]
            ],
            "type": "histogram2dcontour"
           }
          ],
          "mesh3d": [
           {
            "colorbar": {
             "outlinewidth": 0,
             "ticks": ""
            },
            "type": "mesh3d"
           }
          ],
          "parcoords": [
           {
            "line": {
             "colorbar": {
              "outlinewidth": 0,
              "ticks": ""
             }
            },
            "type": "parcoords"
           }
          ],
          "pie": [
           {
            "automargin": true,
            "type": "pie"
           }
          ],
          "scatter": [
           {
            "marker": {
             "colorbar": {
              "outlinewidth": 0,
              "ticks": ""
             }
            },
            "type": "scatter"
           }
          ],
          "scatter3d": [
           {
            "line": {
             "colorbar": {
              "outlinewidth": 0,
              "ticks": ""
             }
            },
            "marker": {
             "colorbar": {
              "outlinewidth": 0,
              "ticks": ""
             }
            },
            "type": "scatter3d"
           }
          ],
          "scattercarpet": [
           {
            "marker": {
             "colorbar": {
              "outlinewidth": 0,
              "ticks": ""
             }
            },
            "type": "scattercarpet"
           }
          ],
          "scattergeo": [
           {
            "marker": {
             "colorbar": {
              "outlinewidth": 0,
              "ticks": ""
             }
            },
            "type": "scattergeo"
           }
          ],
          "scattergl": [
           {
            "marker": {
             "colorbar": {
              "outlinewidth": 0,
              "ticks": ""
             }
            },
            "type": "scattergl"
           }
          ],
          "scattermapbox": [
           {
            "marker": {
             "colorbar": {
              "outlinewidth": 0,
              "ticks": ""
             }
            },
            "type": "scattermapbox"
           }
          ],
          "scatterpolar": [
           {
            "marker": {
             "colorbar": {
              "outlinewidth": 0,
              "ticks": ""
             }
            },
            "type": "scatterpolar"
           }
          ],
          "scatterpolargl": [
           {
            "marker": {
             "colorbar": {
              "outlinewidth": 0,
              "ticks": ""
             }
            },
            "type": "scatterpolargl"
           }
          ],
          "scatterternary": [
           {
            "marker": {
             "colorbar": {
              "outlinewidth": 0,
              "ticks": ""
             }
            },
            "type": "scatterternary"
           }
          ],
          "surface": [
           {
            "colorbar": {
             "outlinewidth": 0,
             "ticks": ""
            },
            "colorscale": [
             [
              0,
              "#0d0887"
             ],
             [
              0.1111111111111111,
              "#46039f"
             ],
             [
              0.2222222222222222,
              "#7201a8"
             ],
             [
              0.3333333333333333,
              "#9c179e"
             ],
             [
              0.4444444444444444,
              "#bd3786"
             ],
             [
              0.5555555555555556,
              "#d8576b"
             ],
             [
              0.6666666666666666,
              "#ed7953"
             ],
             [
              0.7777777777777778,
              "#fb9f3a"
             ],
             [
              0.8888888888888888,
              "#fdca26"
             ],
             [
              1,
              "#f0f921"
             ]
            ],
            "type": "surface"
           }
          ],
          "table": [
           {
            "cells": {
             "fill": {
              "color": "#EBF0F8"
             },
             "line": {
              "color": "white"
             }
            },
            "header": {
             "fill": {
              "color": "#C8D4E3"
             },
             "line": {
              "color": "white"
             }
            },
            "type": "table"
           }
          ]
         },
         "layout": {
          "annotationdefaults": {
           "arrowcolor": "#2a3f5f",
           "arrowhead": 0,
           "arrowwidth": 1
          },
          "autotypenumbers": "strict",
          "coloraxis": {
           "colorbar": {
            "outlinewidth": 0,
            "ticks": ""
           }
          },
          "colorscale": {
           "diverging": [
            [
             0,
             "#8e0152"
            ],
            [
             0.1,
             "#c51b7d"
            ],
            [
             0.2,
             "#de77ae"
            ],
            [
             0.3,
             "#f1b6da"
            ],
            [
             0.4,
             "#fde0ef"
            ],
            [
             0.5,
             "#f7f7f7"
            ],
            [
             0.6,
             "#e6f5d0"
            ],
            [
             0.7,
             "#b8e186"
            ],
            [
             0.8,
             "#7fbc41"
            ],
            [
             0.9,
             "#4d9221"
            ],
            [
             1,
             "#276419"
            ]
           ],
           "sequential": [
            [
             0,
             "#0d0887"
            ],
            [
             0.1111111111111111,
             "#46039f"
            ],
            [
             0.2222222222222222,
             "#7201a8"
            ],
            [
             0.3333333333333333,
             "#9c179e"
            ],
            [
             0.4444444444444444,
             "#bd3786"
            ],
            [
             0.5555555555555556,
             "#d8576b"
            ],
            [
             0.6666666666666666,
             "#ed7953"
            ],
            [
             0.7777777777777778,
             "#fb9f3a"
            ],
            [
             0.8888888888888888,
             "#fdca26"
            ],
            [
             1,
             "#f0f921"
            ]
           ],
           "sequentialminus": [
            [
             0,
             "#0d0887"
            ],
            [
             0.1111111111111111,
             "#46039f"
            ],
            [
             0.2222222222222222,
             "#7201a8"
            ],
            [
             0.3333333333333333,
             "#9c179e"
            ],
            [
             0.4444444444444444,
             "#bd3786"
            ],
            [
             0.5555555555555556,
             "#d8576b"
            ],
            [
             0.6666666666666666,
             "#ed7953"
            ],
            [
             0.7777777777777778,
             "#fb9f3a"
            ],
            [
             0.8888888888888888,
             "#fdca26"
            ],
            [
             1,
             "#f0f921"
            ]
           ]
          },
          "colorway": [
           "#636efa",
           "#EF553B",
           "#00cc96",
           "#ab63fa",
           "#FFA15A",
           "#19d3f3",
           "#FF6692",
           "#B6E880",
           "#FF97FF",
           "#FECB52"
          ],
          "font": {
           "color": "#2a3f5f"
          },
          "geo": {
           "bgcolor": "white",
           "lakecolor": "white",
           "landcolor": "#E5ECF6",
           "showlakes": true,
           "showland": true,
           "subunitcolor": "white"
          },
          "hoverlabel": {
           "align": "left"
          },
          "hovermode": "closest",
          "mapbox": {
           "style": "light"
          },
          "paper_bgcolor": "white",
          "plot_bgcolor": "#E5ECF6",
          "polar": {
           "angularaxis": {
            "gridcolor": "white",
            "linecolor": "white",
            "ticks": ""
           },
           "bgcolor": "#E5ECF6",
           "radialaxis": {
            "gridcolor": "white",
            "linecolor": "white",
            "ticks": ""
           }
          },
          "scene": {
           "xaxis": {
            "backgroundcolor": "#E5ECF6",
            "gridcolor": "white",
            "gridwidth": 2,
            "linecolor": "white",
            "showbackground": true,
            "ticks": "",
            "zerolinecolor": "white"
           },
           "yaxis": {
            "backgroundcolor": "#E5ECF6",
            "gridcolor": "white",
            "gridwidth": 2,
            "linecolor": "white",
            "showbackground": true,
            "ticks": "",
            "zerolinecolor": "white"
           },
           "zaxis": {
            "backgroundcolor": "#E5ECF6",
            "gridcolor": "white",
            "gridwidth": 2,
            "linecolor": "white",
            "showbackground": true,
            "ticks": "",
            "zerolinecolor": "white"
           }
          },
          "shapedefaults": {
           "line": {
            "color": "#2a3f5f"
           }
          },
          "ternary": {
           "aaxis": {
            "gridcolor": "white",
            "linecolor": "white",
            "ticks": ""
           },
           "baxis": {
            "gridcolor": "white",
            "linecolor": "white",
            "ticks": ""
           },
           "bgcolor": "#E5ECF6",
           "caxis": {
            "gridcolor": "white",
            "linecolor": "white",
            "ticks": ""
           }
          },
          "title": {
           "x": 0.05
          },
          "xaxis": {
           "automargin": true,
           "gridcolor": "white",
           "linecolor": "white",
           "ticks": "",
           "title": {
            "standoff": 15
           },
           "zerolinecolor": "white",
           "zerolinewidth": 2
          },
          "yaxis": {
           "automargin": true,
           "gridcolor": "white",
           "linecolor": "white",
           "ticks": "",
           "title": {
            "standoff": 15
           },
           "zerolinecolor": "white",
           "zerolinewidth": 2
          }
         }
        },
        "yaxis": {
         "showticklabels": false
        }
       }
      }
     },
     "metadata": {},
     "output_type": "display_data"
    }
   ],
   "source": [
    "# Adjust the min and max values as fit (None if you want default min/max)\n",
    "zmin = 0\n",
    "zmax = 3\n",
    "\n",
    "#For median subtracted plot\n",
    "fig, colormap = phm.color_map(zmin,zmax)\n",
    "\n",
    "fig.update_layout(height=50)\n",
    "# Preview the colormap\n",
    "fig.show()"
   ]
  },
  {
   "cell_type": "markdown",
   "metadata": {},
   "source": [
    "### Clustering Preys and Baits"
   ]
  },
  {
   "cell_type": "code",
   "execution_count": 63,
   "metadata": {},
   "outputs": [
    {
     "name": "stdout",
     "output_type": "stream",
     "text": [
      "Generating prey linkage...\n",
      "Finished generating linkage in 3.45 seconds.\n",
      "Generating bait linkage...\n",
      "Finished generating linkage in 0.01 seconds.\n",
      "Generating Heatmap...\n",
      "Finished heatmap in 1.15 seconds.\n"
     ]
    }
   ],
   "source": [
    "# Cluster the preys and baits\n",
    "prey_leaves = phm.prey_leaves(transformed, features, method='average', grouped=False)\n",
    "bait_leaves = phm.bait_leaves(transformed, features, method='average', grouped=False)\n",
    "\n",
    "# Generate the heatmap (If you don't want baits clustered, assign bait_clust as False)\n",
    "\n",
    "heatmap = phm.dendro_heatmap(transformed, prey_leaves, colormap, zmin, zmax, features=features, label='Gene names',\\\n",
    "                             bait_leaves=bait_leaves, bait_clust=False)"
   ]
  },
  {
   "cell_type": "markdown",
   "metadata": {},
   "source": [
    "### Plot the Figure!\n",
    "comment and execute the lines when you're done  \n",
    "otherwise loading the notebook again will be very slow\n"
   ]
  },
  {
   "cell_type": "code",
   "execution_count": 64,
   "metadata": {
    "scrolled": false
   },
   "outputs": [
    {
     "data": {
      "application/vnd.jupyter.widget-view+json": {
       "model_id": "8e5bcc4e31b54c04b9985b17b541451a",
       "version_major": 2,
       "version_minor": 0
      },
      "text/plain": [
       "FigureWidget({\n",
       "    'data': [{'colorscale': [[0.0, '#000000'], [0.14285714285714285, '#0000b4'],\n",
       "              …"
      ]
     },
     "metadata": {},
     "output_type": "display_data"
    }
   ],
   "source": [
    "# Set up the Layout\n",
    "# If you want prey / bait names, turn the ticks to True\n",
    "layout = go.Layout({'width':1200, 'height':850},\n",
    "                  xaxis={'showticklabels':True},\n",
    "                 yaxis={'showticklabels':True})\n",
    "\n",
    "# Plot!/\n",
    "go.FigureWidget(heatmap,layout)"
   ]
  },
  {
   "cell_type": "code",
   "execution_count": null,
   "metadata": {},
   "outputs": [],
   "source": []
  }
 ],
 "metadata": {
  "interpreter": {
   "hash": "55edea1d5b79b28995c8114ab4a49d53e6b932d855f71f4b2dd3e89bfd17147a"
  },
  "kernelspec": {
   "display_name": "Python 3.9.6 64-bit ('pyseus': conda)",
   "name": "python3"
  },
  "language_info": {
   "codemirror_mode": {
    "name": "ipython",
    "version": 3
   },
   "file_extension": ".py",
   "mimetype": "text/x-python",
   "name": "python",
   "nbconvert_exporter": "python",
   "pygments_lexer": "ipython3",
   "version": "3.9.6"
  }
 },
 "nbformat": 4,
 "nbformat_minor": 4
}

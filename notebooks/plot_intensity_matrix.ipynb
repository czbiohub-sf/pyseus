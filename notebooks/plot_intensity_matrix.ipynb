{
 "cells": [
  {
   "cell_type": "code",
   "execution_count": null,
   "metadata": {},
   "outputs": [],
   "source": [
    "import matplotlib\n",
    "import os\n",
    "import sys\n",
    "sys.path.append('../')\n",
    "from pyseus.plotting import pyseus_heatmap as phm\n",
    "import pandas as pd\n",
    "import plotly.offline\n",
    "from plotly import graph_objs as go\n",
    "import seaborn as sns\n",
    "\n",
    "# Make notebook a full width\n",
    "from IPython.core.display import display, HTML\n",
    "display(HTML(\"<style>.container { width:100% !important; }</style>\"))"
   ]
  },
  {
   "cell_type": "markdown",
   "metadata": {},
   "source": [
    "## Import the imputed DF"
   ]
  },
  {
   "cell_type": "code",
   "execution_count": null,
   "metadata": {},
   "outputs": [],
   "source": [
    "root = '../data/20210317_Organelle_IP_StartingMaterial_Bead_Amount/'\n",
    "analysis = '20210520/'\n",
    "filename = root + analysis + 'preprocessed_tables.pkl'\n",
    "\n",
    "master = pd.read_pickle(filename)\n",
    "imputed = master.bait_imputed_table"
   ]
  },
  {
   "cell_type": "code",
   "execution_count": null,
   "metadata": {},
   "outputs": [],
   "source": [
    "# If you want to exclude some columns for plotting - this is the code\n",
    "\n",
    "exclusion_df = pd.read_csv(root + analysis +  'plotting_exclusion_list.csv')\n",
    "\n",
    "exclusion_list = exclusion_df[exclusion_df['plot']==False]['Baits'].to_list()\n",
    "imputed.drop(exclusion_list, axis=1, inplace=True)"
   ]
  },
  {
   "cell_type": "code",
   "execution_count": null,
   "metadata": {},
   "outputs": [],
   "source": [
    "# If you want to look at which samples are excluded from the plot\n",
    "exclusion_list"
   ]
  },
  {
   "cell_type": "markdown",
   "metadata": {},
   "source": [
    "### Transform prey intensities to (intensity - prey median)"
   ]
  },
  {
   "cell_type": "code",
   "execution_count": null,
   "metadata": {},
   "outputs": [],
   "source": [
    "transformed = phm.subtract_prey_median(imputed ,mad_mod=True, mad_factor=1)\n",
    "\n",
    "cols = list(set([x[0] for x in list(transformed)]))\n",
    "cols.sort()\n",
    "transformed = transformed[cols]"
   ]
  },
  {
   "cell_type": "markdown",
   "metadata": {},
   "source": [
    "### If you DO NOT want the normalization, run the snippet below"
   ]
  },
  {
   "cell_type": "code",
   "execution_count": null,
   "metadata": {},
   "outputs": [],
   "source": [
    "transformed = imputed.copy()"
   ]
  },
  {
   "cell_type": "markdown",
   "metadata": {},
   "source": [
    "## Plotting Function"
   ]
  },
  {
   "cell_type": "code",
   "execution_count": null,
   "metadata": {},
   "outputs": [],
   "source": [
    "# Adjust the min and max values as fit (None if you want default min/max)\n",
    "zmin = 20\n",
    "zmax = 36\n",
    "\n",
    "#For median subtracted plot\n",
    "fig, zmin, zmax, colormap = phm.color_map(transformed,zmin,zmax)\n",
    "\n",
    "# Preview the colormap\n",
    "fig.show()"
   ]
  },
  {
   "cell_type": "markdown",
   "metadata": {},
   "source": [
    "### Clustering Preys and Baits"
   ]
  },
  {
   "cell_type": "code",
   "execution_count": null,
   "metadata": {},
   "outputs": [],
   "source": [
    "# Cluster the preys and baits\n",
    "prey_leaves = phm.prey_kmeans(transformed,k=50,method='average',ordering=True)\n",
    "bait_leaves = phm.bait_leaves(transformed,method='average')\n",
    "\n",
    "# Generate the heatmap (If you don't want baits clustered, assign bait_clust as False)\n",
    "\n",
    "heatmap = phm.dendro_heatmap(transformed,prey_leaves,colormap,zmin,zmax,\\\n",
    "                             bait_leaves=bait_leaves,bait_clust=False)"
   ]
  },
  {
   "cell_type": "markdown",
   "metadata": {},
   "source": [
    "### Plot the Figure!\n",
    "comment and execute the lines when you're done  \n",
    "otherwise loading the notebook again will be very slow\n"
   ]
  },
  {
   "cell_type": "code",
   "execution_count": 11,
   "metadata": {
    "scrolled": false
   },
   "outputs": [],
   "source": [
    "# Set up the Layout\n",
    "# If you want prey / bait names, turn the ticks to True\n",
    "layout = go.Layout({'width':1200, 'height':850},\n",
    "                  xaxis={'showticklabels':True},\n",
    "                 yaxis={'showticklabels':True})\n",
    "\n",
    "# Plot!/\n",
    "go.FigureWidget(heatmap,layout)"
   ]
  },
  {
   "cell_type": "code",
   "execution_count": null,
   "metadata": {},
   "outputs": [],
   "source": []
  }
 ],
 "metadata": {
  "kernelspec": {
   "display_name": "Python 3",
   "language": "python",
   "name": "python3"
  },
  "language_info": {
   "codemirror_mode": {
    "name": "ipython",
    "version": 3
   },
   "file_extension": ".py",
   "mimetype": "text/x-python",
   "name": "python",
   "nbconvert_exporter": "python",
   "pygments_lexer": "ipython3",
   "version": "3.8.6"
  }
 },
 "nbformat": 4,
 "nbformat_minor": 4
}
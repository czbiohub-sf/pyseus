{
 "metadata": {
  "language_info": {
   "codemirror_mode": {
    "name": "ipython",
    "version": 3
   },
   "file_extension": ".py",
   "mimetype": "text/x-python",
   "name": "python",
   "nbconvert_exporter": "python",
   "pygments_lexer": "ipython3",
   "version": "3.8.6"
  },
  "orig_nbformat": 2,
  "kernelspec": {
   "name": "python3",
   "display_name": "Python 3.8.6 64-bit ('base': conda)",
   "metadata": {
    "interpreter": {
     "hash": "930e758eac83a47c3f6a2aaed71e4b7879009c372833f2c2cc066faeb240b89b"
    }
   }
  }
 },
 "nbformat": 4,
 "nbformat_minor": 2,
 "cells": [
  {
   "cell_type": "code",
   "execution_count": 5,
   "metadata": {},
   "outputs": [],
   "source": [
    "import sys\n",
    "sys.path.append('../')\n",
    "\n",
    "import pandas as pd\n",
    "from pyseus import initial_processing as ip\n",
    "from pyseus import small_batch_pvals as sm_pvals"
   ]
  },
  {
   "source": [
    "### Assign root folder of data (The directory where proteinGroups.txt resides)"
   ],
   "cell_type": "markdown",
   "metadata": {}
  },
  {
   "cell_type": "code",
   "execution_count": 161,
   "metadata": {},
   "outputs": [],
   "source": [
    "root = '../data/demo_nativeIP_elution_optimization/'\n",
    "analysis = '20210330'\n",
    "pgroup = root + 'proteinGroups.txt'\n",
    "config = root + 'initial_config.csv'\n",
    "\n",
    "# Use LFQ or absolute intensity\n",
    "Lfq_intensity = True\n",
    "\n",
    "# Imputation parameters\n",
    "imputation = 'simple_bait'\n",
    "distance = 1.8\n",
    "width = 0.3\n",
    "\n",
    "# These are default configuration value for raw processing - these probably will not have to be changed\n",
    "filter_rows = True\n",
    "remove_dup_baits = False\n",
    "find_gene_names = False"
   ]
  },
  {
   "source": [
    "### Process raw file and obtain imputed table"
   ],
   "cell_type": "markdown",
   "metadata": {}
  },
  {
   "cell_type": "code",
   "execution_count": 168,
   "metadata": {},
   "outputs": [
    {
     "output_type": "stream",
     "name": "stdout",
     "text": [
      "Reading ../data/demo_nativeIP_elution_optimization/proteinGroups.txt...\n",
      "Filtered 387 of 5573 rows. Now 5186 rows.\n",
      "Intensities Log2 Transformed.\n",
      "Removed invalid rows. 3866 from 5186 rows remaining.\n",
      "Imputation complete.\n"
     ]
    }
   ],
   "source": [
    "imp.reload(ip)\n",
    "ip.czb_ms_processing(\n",
    "    pgroup,\n",
    "    root,\n",
    "    analysis,\n",
    "    filter_rows=filter_rows,\n",
    "    remove_dup_baits=remove_dup_baits,\n",
    "    find_gene_names=find_gene_names,\n",
    "    Lfq_intensity=Lfq_intensity,\n",
    "    imputation=imputation,\n",
    "    distance=distance,\n",
    "    width=width\n",
    "    )"
   ]
  },
  {
   "source": [
    "### Calculate p-values and Enrichment"
   ],
   "cell_type": "markdown",
   "metadata": {}
  },
  {
   "cell_type": "code",
   "execution_count": null,
   "metadata": {},
   "outputs": [],
   "source": [
    "# Folder to import impute table\n",
    "root = '../data/demo_nativeIP_elution_optimization/'\n",
    "analysis = '20210330'\n",
    "\n",
    "# import exclusion_list\n",
    "exclusion_df = pd.read_csv(root + analysis + '/pval_exclusion_list.csv')\n",
    "exclusion_list = exclusion_df['Baits'].to_list()\n",
    "\n",
    "# import imputed table\n",
    "imputed = pd.read_pickle(root + analysis + '/imputed_table.pkl')"
   ]
  },
  {
   "cell_type": "code",
   "execution_count": 176,
   "metadata": {},
   "outputs": [],
   "source": [
    "# Parameter settings\n",
    "manual_exclusion = False\n",
    "\n",
    "use_wildtypes_only = False\n",
    "wt_labels = ['_WT']\n",
    "\n",
    "std_enrich = True"
   ]
  },
  {
   "cell_type": "code",
   "execution_count": 178,
   "metadata": {},
   "outputs": [
    {
     "output_type": "stream",
     "name": "stdout",
     "text": [
      "P-val calculations..\n",
      "Finished!\n"
     ]
    }
   ],
   "source": [
    "pvals = sm_pvals.pval_enrichment(\n",
    "    imputed,\n",
    "    manual_exclusion=manual_exclusion,\n",
    "    exclusion_list=exclusion_list,\n",
    "    wildtype=use_wildtypes_only,\n",
    "    wt_labels=wt_labels,\n",
    "    std_enrich=std_enrich)\n",
    "\n",
    "pvals.to_pickle(root + analysis + '/pval_enrichment_table.pkl')"
   ]
  },
  {
   "cell_type": "code",
   "execution_count": null,
   "metadata": {},
   "outputs": [],
   "source": []
  }
 ]
}
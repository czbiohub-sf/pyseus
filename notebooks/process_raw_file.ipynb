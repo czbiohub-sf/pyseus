{
 "metadata": {
  "language_info": {
   "codemirror_mode": {
    "name": "ipython",
    "version": 3
   },
   "file_extension": ".py",
   "mimetype": "text/x-python",
   "name": "python",
   "nbconvert_exporter": "python",
   "pygments_lexer": "ipython3",
   "version": "3.8.6"
  },
  "orig_nbformat": 2,
  "kernelspec": {
   "name": "python3",
   "display_name": "Python 3.8.6 64-bit ('base': conda)",
   "metadata": {
    "interpreter": {
     "hash": "930e758eac83a47c3f6a2aaed71e4b7879009c372833f2c2cc066faeb240b89b"
    }
   }
  }
 },
 "nbformat": 4,
 "nbformat_minor": 2,
 "cells": [
  {
   "cell_type": "code",
   "execution_count": 4,
   "metadata": {},
   "outputs": [],
   "source": [
    "import sys\n",
    "sys.path.append('../')\n",
    "\n",
    "import pandas as pd\n",
    "from pyseus import basic_processing as ip\n",
    "from pyseus import primary_analysis as pa\n",
    "\n"
   ]
  },
  {
   "source": [
    "### Assign root folder of data (The directory where proteinGroups.txt resides)"
   ],
   "cell_type": "markdown",
   "metadata": {}
  },
  {
   "cell_type": "code",
   "execution_count": 13,
   "metadata": {},
   "outputs": [],
   "source": [
    "root = '../data/20210317_Organelle_IP_StartingMaterial_Bead_Amount/'\n",
    "analysis = '20210520'\n",
    "\n",
    "pg_file = 'proteinGroups_renamed.txt'\n",
    "\n",
    "# Use LFQ or absolute intensity\n",
    "intensity_type = 'LFQ intensity'\n",
    "\n",
    "# Imputation parameters\n",
    "bait_impute = True\n",
    "distance = 1.8\n",
    "width = 0.3\n",
    "\n",
    "thresh=100 # For prey-imputation\n"
   ]
  },
  {
   "source": [
    "### Standard Processing"
   ],
   "cell_type": "markdown",
   "metadata": {}
  },
  {
   "cell_type": "code",
   "execution_count": 16,
   "metadata": {},
   "outputs": [
    {
     "output_type": "stream",
     "name": "stdout",
     "text": [
      "Filtered 292 of 6254 rows. Now 5962 rows.\n",
      "Removed invalid rows. 4319 from 5962 rows remaining.\n",
      "Saving to: ../data/20210317_Organelle_IP_StartingMaterial_Bead_Amount/20210520/preprocessed_tables.pkl\n"
     ]
    }
   ],
   "source": [
    "initial_tables = ip.czb_initial_processing(\n",
    "    root=root,\n",
    "    analysis=analysis,\n",
    "    intensity_type=intensity_type,\n",
    "    bait_impute=bait_impute,\n",
    "    distance=distance,\n",
    "    width=width,\n",
    "    thresh=thresh,\n",
    "    pg_file=pg_file\n",
    "    )"
   ]
  },
  {
   "source": [
    "### Calculate p-values and Enrichment"
   ],
   "cell_type": "markdown",
   "metadata": {}
  },
  {
   "cell_type": "code",
   "execution_count": 20,
   "metadata": {},
   "outputs": [],
   "source": [
    "an_tables = pa.AnalysisTables(\n",
    "    root=root,\n",
    "    analysis=analysis,\n",
    "    imputed_table=initial_tables.bait_imputed_table,\n",
    "    exclusion_matrix = initial_tables.bait_matrix)"
   ]
  },
  {
   "cell_type": "code",
   "execution_count": 45,
   "metadata": {},
   "outputs": [],
   "source": [
    "an_tables.load_exclusion_matrix()"
   ]
  },
  {
   "cell_type": "code",
   "execution_count": 18,
   "metadata": {},
   "outputs": [],
   "source": [
    "## Self explanatory Methods\n",
    "\n",
    "# an_tables.print_baits()\n",
    "# an_tables.print_excluded_controls('Glycine_Low_pH_LAMP1')\n",
    "# an_tables.print_controls('Glycine_Low_pH_LAMP1')\n",
    "# an_tables.select_wildtype_controls(wt_re='_WT')\n",
    "# an_tables.restore_default_exclusion_matrix()"
   ]
  },
  {
   "cell_type": "code",
   "execution_count": 21,
   "metadata": {},
   "outputs": [
    {
     "output_type": "stream",
     "name": "stdout",
     "text": [
      "P-val calculations..\n",
      "Finished!\n"
     ]
    }
   ],
   "source": [
    "an_tables.simple_pval_enrichment()\n",
    "an_tables.convert_to_standard_table()"
   ]
  },
  {
   "cell_type": "code",
   "execution_count": 22,
   "metadata": {},
   "outputs": [
    {
     "output_type": "stream",
     "name": "stdout",
     "text": [
      "Saving to: ../data/20210317_Organelle_IP_StartingMaterial_Bead_Amount/20210520/pval_tables.pkl\n"
     ]
    }
   ],
   "source": [
    "an_tables.save(option_str='')"
   ]
  }
 ]
}
{
 "cells": [
  {
   "cell_type": "code",
   "execution_count": 1,
   "metadata": {},
   "outputs": [],
   "source": [
    "import sys\n",
    "sys.path.append('../')\n",
    "\n",
    "import pandas as pd\n",
    "from pyseus import basic_processing as ip\n",
    "from pyseus import primary_analysis as pa\n",
    "\n"
   ]
  },
  {
   "cell_type": "markdown",
   "metadata": {},
   "source": [
    "### Assign root folder of data (The directory where proteinGroups.txt resides)"
   ]
  },
  {
   "cell_type": "code",
   "execution_count": 25,
   "metadata": {},
   "outputs": [],
   "source": [
    "root = '../data/20210719_Infected_Cell_All_Samples/'\n",
    "analysis = '20210726'\n",
    "\n",
    "pg_file = 'proteinGroups_renamed_t.txt'\n",
    "\n",
    "# Use LFQ or absolute intensity\n",
    "intensity_type = 'LFQ intensity'\n",
    "\n",
    "# Imputation parameters\n",
    "bait_impute = True\n",
    "distance = 1.8\n",
    "width = 0.3\n",
    "\n",
    "thresh=100 # For prey-imputation\n"
   ]
  },
  {
   "cell_type": "markdown",
   "metadata": {},
   "source": [
    "### Standard Processing"
   ]
  },
  {
   "cell_type": "code",
   "execution_count": 27,
   "metadata": {},
   "outputs": [
    {
     "name": "stdout",
     "output_type": "stream",
     "text": [
      "Filtered 395 of 6063 rows. Now 5668 rows.\n",
      "Removed invalid rows. 5499 from 5668 rows remaining.\n",
      "Saving to: ../data/20210719_Infected_Cell_All_Samples/20210726/preprocessed_tables.pkl\n"
     ]
    }
   ],
   "source": [
    "initial_tables = ip.czb_initial_processing(\n",
    "    root=root,\n",
    "    analysis=analysis,\n",
    "    intensity_type=intensity_type,\n",
    "    bait_impute=bait_impute,\n",
    "    distance=distance,\n",
    "    width=width,\n",
    "    thresh=thresh,\n",
    "    pg_file=pg_file\n",
    "    )"
   ]
  },
  {
   "cell_type": "code",
   "execution_count": 28,
   "metadata": {},
   "outputs": [],
   "source": [
    "initial_tables.bait_imputed_table.to_csv(root + analysis + '/imputed_table.csv')"
   ]
  },
  {
   "cell_type": "markdown",
   "metadata": {},
   "source": [
    "### Calculate p-values and Enrichment"
   ]
  },
  {
   "cell_type": "code",
   "execution_count": 29,
   "metadata": {},
   "outputs": [],
   "source": [
    "an_tables = pa.AnalysisTables(\n",
    "    root=root,\n",
    "    analysis=analysis,\n",
    "    imputed_table=initial_tables.bait_imputed_table,\n",
    "    exclusion_matrix = initial_tables.bait_matrix)"
   ]
  },
  {
   "cell_type": "code",
   "execution_count": 30,
   "metadata": {},
   "outputs": [],
   "source": [
    "an_tables.load_exclusion_matrix()"
   ]
  },
  {
   "cell_type": "code",
   "execution_count": 31,
   "metadata": {},
   "outputs": [
    {
     "data": {
      "text/html": "<div>\n<style scoped>\n    .dataframe tbody tr th:only-of-type {\n        vertical-align: middle;\n    }\n\n    .dataframe tbody tr th {\n        vertical-align: top;\n    }\n\n    .dataframe thead th {\n        text-align: right;\n    }\n</style>\n<table border=\"1\" class=\"dataframe\">\n  <thead>\n    <tr style=\"text-align: right;\">\n      <th></th>\n      <th>Baits</th>\n    </tr>\n  </thead>\n  <tbody>\n    <tr>\n      <th>11</th>\n      <td>20210719_untagged-uninfected</td>\n    </tr>\n  </tbody>\n</table>\n</div>",
      "text/plain": "                           Baits\n11  20210719_untagged-uninfected"
     },
     "execution_count": 31,
     "metadata": {},
     "output_type": "execute_result"
    }
   ],
   "source": [
    "## Self explanatory Methods\n",
    "\n",
    "# an_tables.print_baits()\n",
    "# an_tables.print_excluded_controls('Glycine_Low_pH_LAMP1')\n",
    "an_tables.print_controls('20210719_GPR107-infected')\n",
    "# an_tables.select_wildtype_controls(wt_re='_WT')\n",
    "# an_tables.restore_default_exclusion_matrix()"
   ]
  },
  {
   "cell_type": "code",
   "execution_count": 35,
   "metadata": {},
   "outputs": [
    {
     "name": "stdout",
     "output_type": "stream",
     "text": [
      "P-val calculations..\n",
      "Finished!\n"
     ]
    }
   ],
   "source": [
    "an_tables.simple_pval_enrichment(std_enrich=False)\n",
    "an_tables.convert_to_standard_table()"
   ]
  },
  {
   "cell_type": "code",
   "execution_count": 36,
   "metadata": {},
   "outputs": [
    {
     "name": "stdout",
     "output_type": "stream",
     "text": [
      "Saving to: ../data/20210719_Infected_Cell_All_Samples/20210726/pval_tables.pkl\n"
     ]
    }
   ],
   "source": [
    "an_tables.save(option_str='')"
   ]
  },
  {
   "cell_type": "code",
   "execution_count": null,
   "metadata": {},
   "outputs": [],
   "source": []
  }
 ],
 "metadata": {
  "kernelspec": {
   "display_name": "Python 3 (ipykernel)",
   "language": "python",
   "name": "python3"
  },
  "language_info": {
   "codemirror_mode": {
    "name": "ipython",
    "version": 3
   },
   "file_extension": ".py",
   "mimetype": "text/x-python",
   "name": "python",
   "nbconvert_exporter": "python",
   "pygments_lexer": "ipython3",
   "version": "3.9.6"
  },
  "orig_nbformat": 2
 },
 "nbformat": 4,
 "nbformat_minor": 2
}
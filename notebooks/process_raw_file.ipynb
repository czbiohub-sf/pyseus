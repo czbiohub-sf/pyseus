{
 "cells": [
  {
   "cell_type": "code",
   "execution_count": 2,
   "metadata": {},
   "outputs": [],
   "source": [
    "import sys\n",
    "sys.path.append('../')\n",
    "\n",
    "import pandas as pd\n",
    "from pyseus import basic_processing as ip\n",
    "from pyseus import primary_analysis as pa\n",
    "\n"
   ]
  },
  {
   "cell_type": "markdown",
   "metadata": {},
   "source": [
    "### Assign root folder of data (The directory where proteinGroups.txt resides)"
   ]
  },
  {
   "cell_type": "code",
   "execution_count": 3,
   "metadata": {},
   "outputs": [],
   "source": [
    "root = '../data/20210719_Infected_Cell_All_Samples/'\n",
    "analysis = '20210726'\n",
    "\n",
    "pg_file = 'proteinGroups_renamed_t.txt'\n",
    "\n",
    "# Use LFQ or absolute intensity\n",
    "intensity_type = 'LFQ intensity'\n",
    "\n",
    "# Imputation parameters\n",
    "bait_impute = True\n",
    "distance = 1.8\n",
    "width = 0.3\n",
    "\n",
    "thresh=100 # For prey-imputation\n"
   ]
  },
  {
   "cell_type": "markdown",
   "metadata": {},
   "source": [
    "### Standard Processing"
   ]
  },
  {
   "cell_type": "code",
   "execution_count": 21,
   "metadata": {},
   "outputs": [
    {
     "name": "stdout",
     "output_type": "stream",
     "text": [
      "Filtered 395 of 6063 rows. Now 5668 rows.\n",
      "Removed invalid rows. 5499 from 5668 rows remaining.\n"
     ]
    }
   ],
   "source": [
    "initial_tables = ip.czb_initial_processing(\n",
    "    root=root,\n",
    "    analysis=analysis,\n",
    "    pg_file=pg_file,\n",
    "    intensity_type=intensity_type,\n",
    "    bait_impute=bait_impute,\n",
    "    distance=distance,\n",
    "    width=width,\n",
    "    thresh=thresh\n",
    "    )"
   ]
  },
  {
   "cell_type": "code",
   "execution_count": 23,
   "metadata": {},
   "outputs": [],
   "source": [
    "initial_tables.bait_imputed_table.to_csv(root + analysis + '/imputed_table.csv')\n",
    "initial_tables.bait_matrix.to_csv(root + analysis + '/analysis_exclusion_matrix.csv')"
   ]
  },
  {
   "cell_type": "markdown",
   "metadata": {},
   "source": [
    "### Calculate p-values and Enrichment"
   ]
  },
  {
   "cell_type": "code",
   "execution_count": 54,
   "metadata": {},
   "outputs": [],
   "source": [
    "an_tables = pa.AnalysisTables(\n",
    "    root=root,\n",
    "    analysis=analysis,\n",
    "    imputed_table=initial_tables.bait_imputed_table,\n",
    "    exclusion_matrix = initial_tables.bait_matrix)"
   ]
  },
  {
   "cell_type": "code",
   "execution_count": 55,
   "metadata": {},
   "outputs": [],
   "source": [
    "an_tables.load_exclusion_matrix()"
   ]
  },
  {
   "cell_type": "code",
   "execution_count": 56,
   "metadata": {},
   "outputs": [
    {
     "data": {
      "text/html": [
       "<div>\n",
       "<style scoped>\n",
       "    .dataframe tbody tr th:only-of-type {\n",
       "        vertical-align: middle;\n",
       "    }\n",
       "\n",
       "    .dataframe tbody tr th {\n",
       "        vertical-align: top;\n",
       "    }\n",
       "\n",
       "    .dataframe thead th {\n",
       "        text-align: right;\n",
       "    }\n",
       "</style>\n",
       "<table border=\"1\" class=\"dataframe\">\n",
       "  <thead>\n",
       "    <tr style=\"text-align: right;\">\n",
       "      <th></th>\n",
       "      <th>Samples</th>\n",
       "    </tr>\n",
       "  </thead>\n",
       "  <tbody>\n",
       "    <tr>\n",
       "      <th>1</th>\n",
       "      <td>20210719_GPR107-uninfected</td>\n",
       "    </tr>\n",
       "    <tr>\n",
       "      <th>2</th>\n",
       "      <td>20210719_LAMP1-infected</td>\n",
       "    </tr>\n",
       "    <tr>\n",
       "      <th>3</th>\n",
       "      <td>20210719_LAMP1-uninfected</td>\n",
       "    </tr>\n",
       "    <tr>\n",
       "      <th>4</th>\n",
       "      <td>20210719_PEX3-infected</td>\n",
       "    </tr>\n",
       "    <tr>\n",
       "      <th>5</th>\n",
       "      <td>20210719_PEX3-uninfected</td>\n",
       "    </tr>\n",
       "    <tr>\n",
       "      <th>6</th>\n",
       "      <td>20210719_RTN4-infected</td>\n",
       "    </tr>\n",
       "    <tr>\n",
       "      <th>7</th>\n",
       "      <td>20210719_RTN4-uninfected</td>\n",
       "    </tr>\n",
       "    <tr>\n",
       "      <th>8</th>\n",
       "      <td>20210719_TOMM20-infected</td>\n",
       "    </tr>\n",
       "    <tr>\n",
       "      <th>9</th>\n",
       "      <td>20210719_TOMM20-uninfected</td>\n",
       "    </tr>\n",
       "    <tr>\n",
       "      <th>10</th>\n",
       "      <td>20210719_untagged-infected</td>\n",
       "    </tr>\n",
       "    <tr>\n",
       "      <th>11</th>\n",
       "      <td>20210719_untagged-uninfected</td>\n",
       "    </tr>\n",
       "  </tbody>\n",
       "</table>\n",
       "</div>"
      ],
      "text/plain": [
       "                         Samples\n",
       "1     20210719_GPR107-uninfected\n",
       "2        20210719_LAMP1-infected\n",
       "3      20210719_LAMP1-uninfected\n",
       "4         20210719_PEX3-infected\n",
       "5       20210719_PEX3-uninfected\n",
       "6         20210719_RTN4-infected\n",
       "7       20210719_RTN4-uninfected\n",
       "8       20210719_TOMM20-infected\n",
       "9     20210719_TOMM20-uninfected\n",
       "10    20210719_untagged-infected\n",
       "11  20210719_untagged-uninfected"
      ]
     },
     "execution_count": 56,
     "metadata": {},
     "output_type": "execute_result"
    }
   ],
   "source": [
    "## Self explanatory Methods\n",
    "\n",
    "# an_tables.print_baits()\n",
    "# an_tables.print_excluded_controls('Glycine_Low_pH_LAMP1')\n",
    "an_tables.print_controls('20210719_GPR107-infected')\n",
    "# an_tables.select_wildtype_controls(wt_re='_WT')\n",
    "# an_tables.restore_default_exclusion_matrix()"
   ]
  },
  {
   "cell_type": "code",
   "execution_count": 59,
   "metadata": {},
   "outputs": [],
   "source": [
    "# calculate p-val ane enrichment, and convert table to standard format for validation\n",
    "an_tables.simple_pval_enrichment(std_enrich=False)\n",
    "an_tables.convert_to_standard_table()"
   ]
  },
  {
   "cell_type": "code",
   "execution_count": 58,
   "metadata": {},
   "outputs": [
    {
     "name": "stdout",
     "output_type": "stream",
     "text": [
      "Saving standard hits table..\n",
      "Saving to: ../data/20210719_Infected_Cell_All_Samples/20210726/pval_tables.pkl\n"
     ]
    }
   ],
   "source": [
    "# save the whole class as a pickle and save the standard hit table as a csv\n",
    "an_tables.save(option_str='')"
   ]
  },
  {
   "cell_type": "code",
   "execution_count": null,
   "metadata": {},
   "outputs": [],
   "source": []
  }
 ],
 "metadata": {
  "kernelspec": {
   "display_name": "Python 3 (ipykernel)",
   "language": "python",
   "name": "python3"
  },
  "language_info": {
   "codemirror_mode": {
    "name": "ipython",
    "version": 3
   },
   "file_extension": ".py",
   "mimetype": "text/x-python",
   "name": "python",
   "nbconvert_exporter": "python",
   "pygments_lexer": "ipython3",
   "version": "3.9.6"
  },
  "orig_nbformat": 2
 },
 "nbformat": 4,
 "nbformat_minor": 2
}

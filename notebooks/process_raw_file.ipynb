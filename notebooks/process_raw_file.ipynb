{
 "cells": [
  {
   "cell_type": "code",
   "execution_count": 1,
   "metadata": {},
   "outputs": [],
   "source": [
    "import sys\n",
    "sys.path.append('../')\n",
    "\n",
    "import pandas as pd\n",
    "from pyseus import basic_processing as ip\n",
    "from pyseus import primary_analysis as pa\n",
    "\n"
   ]
  },
  {
   "cell_type": "code",
   "execution_count": 42,
   "metadata": {},
   "outputs": [
    {
     "data": {
      "text/plain": "<module 'pyseus.basic_processing' from '../pyseus/basic_processing.py'>"
     },
     "execution_count": 42,
     "metadata": {},
     "output_type": "execute_result"
    }
   ],
   "source": [
    "import imp\n",
    "imp.reload(ip)"
   ]
  },
  {
   "cell_type": "markdown",
   "metadata": {},
   "source": [
    "### Assign root folder of data (The directory where proteinGroups.txt resides)"
   ]
  },
  {
   "cell_type": "code",
   "execution_count": 40,
   "metadata": {},
   "outputs": [],
   "source": [
    "root = '../data/20210317_Organelle_IP_StartingMaterial_Bead_Amount/'\n",
    "analysis = '20210520_global'\n",
    "\n",
    "pg_file = 'proteinGroups_renamed.txt'\n",
    "\n",
    "# Use LFQ or absolute intensity\n",
    "intensity_type = 'LFQ intensity'\n",
    "\n",
    "# Imputation parameters\n",
    "bait_impute = True\n",
    "distance = 1.8\n",
    "width = 0.3\n",
    "local_impute=False\n",
    "\n",
    "thresh=100 # For prey-imputation\n"
   ]
  },
  {
   "cell_type": "markdown",
   "metadata": {},
   "source": [
    "### Standard Processing"
   ]
  },
  {
   "cell_type": "code",
   "execution_count": 43,
   "metadata": {},
   "outputs": [
    {
     "name": "stdout",
     "output_type": "stream",
     "text": [
      "Filtered 292 of 6254 rows. Now 5962 rows.\n",
      "Removed invalid rows. 4319 from 5962 rows remaining.\n",
      "Saving to: ../data/20210317_Organelle_IP_StartingMaterial_Bead_Amount/20210520_global/preprocessed_tables.pkl\n"
     ]
    }
   ],
   "source": [
    "initial_tables = ip.czb_initial_processing(\n",
    "    root=root,\n",
    "    analysis=analysis,\n",
    "    intensity_type=intensity_type,\n",
    "    bait_impute=bait_impute,\n",
    "    distance=distance,\n",
    "    width=width,\n",
    "    thresh=thresh,\n",
    "    pg_file=pg_file,\n",
    "    local=local_impute\n",
    "    )\n",
    "initial_tables.bait_imputed_table.to_csv(root + analysis + '/bait_imputed_table.csv')"
   ]
  },
  {
   "cell_type": "markdown",
   "metadata": {},
   "source": [
    "### Calculate p-values and Enrichment"
   ]
  },
  {
   "cell_type": "code",
   "execution_count": 20,
   "metadata": {},
   "outputs": [],
   "source": [
    "an_tables = pa.AnalysisTables(\n",
    "    root=root,\n",
    "    analysis=analysis,\n",
    "    imputed_table=initial_tables.bait_imputed_table,\n",
    "    exclusion_matrix = initial_tables.bait_matrix)"
   ]
  },
  {
   "cell_type": "code",
   "execution_count": 45,
   "metadata": {},
   "outputs": [],
   "source": [
    "an_tables.load_exclusion_matrix()"
   ]
  },
  {
   "cell_type": "code",
   "execution_count": 18,
   "metadata": {},
   "outputs": [],
   "source": [
    "## Self explanatory Methods\n",
    "\n",
    "# an_tables.print_baits()\n",
    "# an_tables.print_excluded_controls('Glycine_Low_pH_LAMP1')\n",
    "# an_tables.print_controls('Glycine_Low_pH_LAMP1')\n",
    "# an_tables.select_wildtype_controls(wt_re='_WT')\n",
    "# an_tables.restore_default_exclusion_matrix()"
   ]
  },
  {
   "cell_type": "code",
   "execution_count": 21,
   "metadata": {},
   "outputs": [
    {
     "name": "stdout",
     "output_type": "stream",
     "text": [
      "P-val calculations..\n",
      "Finished!\n"
     ]
    }
   ],
   "source": [
    "an_tables.simple_pval_enrichment()\n",
    "an_tables.convert_to_standard_table()"
   ]
  },
  {
   "cell_type": "code",
   "execution_count": 22,
   "metadata": {},
   "outputs": [
    {
     "name": "stdout",
     "output_type": "stream",
     "text": [
      "Saving to: ../data/20210317_Organelle_IP_StartingMaterial_Bead_Amount/20210520/pval_tables.pkl\n"
     ]
    }
   ],
   "source": [
    "an_tables.save(option_str='')"
   ]
  }
 ],
 "metadata": {
  "kernelspec": {
   "display_name": "Python 3",
   "language": "python",
   "name": "python3"
  },
  "language_info": {
   "codemirror_mode": {
    "name": "ipython",
    "version": 3
   },
   "file_extension": ".py",
   "mimetype": "text/x-python",
   "name": "python",
   "nbconvert_exporter": "python",
   "pygments_lexer": "ipython3",
   "version": "3.8.6"
  },
  "orig_nbformat": 2
 },
 "nbformat": 4,
 "nbformat_minor": 2
}
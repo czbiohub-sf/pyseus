{
 "cells": [
  {
   "cell_type": "code",
   "execution_count": 1,
   "metadata": {},
   "outputs": [],
   "source": [
    "import sys\n",
    "sys.path.append('../')\n",
    "\n",
    "import pandas as pd\n",
    "from pyseus import basic_processing as ip"
   ]
  },
  {
   "cell_type": "markdown",
   "metadata": {},
   "source": [
    "### Before processing, samples need to be in the format of experiment_sample_rep#"
   ]
  },
  {
   "cell_type": "code",
   "execution_count": 2,
   "metadata": {},
   "outputs": [],
   "source": [
    "# Specify directory and filename to import the protein groups table\n",
    "root = '../data/20210317_Organelle_IP_StartingMaterial_Bead_Amount/'\n",
    "pg_file = 'proteinGroups.txt'\n",
    "analysis = ''\n",
    "intensity_type = ''\n",
    "\n",
    "raw = ip.RawTables(root, analysis, intensity_type, pg_file=pg_file)\n",
    "\n",
    "# Extract column names\n",
    "col_names = list(raw.raw_table)\n",
    "intensity_cols = [x for x in col_names if 'Intensity' in x]"
   ]
  },
  {
   "cell_type": "code",
   "execution_count": 3,
   "metadata": {},
   "outputs": [
    {
     "data": {
      "text/plain": "['Intensity',\n 'Intensity 10cm_Format_20ul_Beads_LAMP1_rep_1_2ul',\n 'Intensity 10cm_Format_20ul_Beads_LAMP1_rep_2_2ul',\n 'Intensity 10cm_Format_20ul_Beads_LAMP1_rep_3_2ul',\n 'Intensity 10cm_Format_20ul_Beads_PEX3_rep_1_2ul',\n 'Intensity 10cm_Format_20ul_Beads_PEX3_rep_2_2ul',\n 'Intensity 10cm_Format_20ul_Beads_PEX3_rep_3_2ul',\n 'Intensity 10cm_Format_20ul_Beads_TOMM20_rep_1_2ul',\n 'Intensity 10cm_Format_20ul_Beads_TOMM20_rep_2_2ul',\n 'Intensity 10cm_Format_20ul_Beads_TOMM20_rep_3_2ul',\n 'Intensity 10cm_Format_20ul_Beads_WT_rep_1_2ul',\n 'Intensity 10cm_Format_20ul_Beads_WT_rep_2_2ul',\n 'Intensity 10cm_Format_20ul_Beads_WT_rep_3_2ul',\n 'Intensity 6well_Format_20ul_Beads_LAMP1_rep_1_2ul',\n 'Intensity 6well_Format_20ul_Beads_LAMP1_rep_2_2ul',\n 'Intensity 6well_Format_20ul_Beads_LAMP1_rep_3_2ul',\n 'Intensity 6well_Format_20ul_Beads_PEX3_rep_1_2ul',\n 'Intensity 6well_Format_20ul_Beads_PEX3_rep_2_2ul',\n 'Intensity 6well_Format_20ul_Beads_PEX3_rep_3_2ul',\n 'Intensity 6well_Format_20ul_Beads_TOMM20_rep_1_2ul',\n 'Intensity 6well_Format_20ul_Beads_TOMM20_rep_2_2ul',\n 'Intensity 6well_Format_20ul_Beads_TOMM20_rep_3_2ul',\n 'Intensity 6well_Format_20ul_Beads_WT_rep_1_2ul',\n 'Intensity 6well_Format_20ul_Beads_WT_rep_2_2ul',\n 'Intensity 6well_Format_20ul_Beads_WT_rep_3_2ul',\n 'Intensity 6well_Format_3_4_ul_Beads_LAMP1_rep_1',\n 'Intensity 6well_Format_3_4_ul_Beads_LAMP1_rep_2',\n 'Intensity 6well_Format_3_4_ul_Beads_LAMP1_rep_3',\n 'Intensity 6well_Format_3_4_ul_Beads_PEX3_rep_1',\n 'Intensity 6well_Format_3_4_ul_Beads_PEX3_rep_2',\n 'Intensity 6well_Format_3_4_ul_Beads_PEX3_rep_3',\n 'Intensity 6well_Format_3_4_ul_Beads_TOMM20_rep_1',\n 'Intensity 6well_Format_3_4_ul_Beads_TOMM20_rep_2',\n 'Intensity 6well_Format_3_4_ul_Beads_TOMM20_rep_3',\n 'Intensity 6well_Format_3_4_ul_Beads_WT_rep_1',\n 'Intensity 6well_Format_3_4_ul_Beads_WT_rep_2',\n 'Intensity 6well_Format_3_4_ul_Beads_WT_rep_3']"
     },
     "execution_count": 3,
     "metadata": {},
     "output_type": "execute_result"
    }
   ],
   "source": [
    "# Current format of intensity columns\n",
    "intensity_cols"
   ]
  },
  {
   "cell_type": "code",
   "execution_count": 8,
   "metadata": {},
   "outputs": [],
   "source": [
    "# This is a list of regular expressions that will be changed.\n",
    "re = ['_Format_', '_Beads', '3_4_ul', '_2ul', '_rep']\n",
    "# This is a list of replacement strings. \n",
    "replacement_re=['-Format-','-Beads', '3-4ul', '', '']\n",
    "\n",
    "# The method will reformat strings by the order given in the previous list\n",
    "sample_cols = ip.sample_rename(intensity_cols, RE=re, replacement_RE=replacement_re, repl_search=False)"
   ]
  },
  {
   "cell_type": "code",
   "execution_count": 9,
   "metadata": {},
   "outputs": [
    {
     "data": {
      "text/plain": "['Intensity',\n 'Intensity 10cm-Format-20ul-Beads_LAMP1_1',\n 'Intensity 10cm-Format-20ul-Beads_LAMP1_2',\n 'Intensity 10cm-Format-20ul-Beads_LAMP1_3',\n 'Intensity 10cm-Format-20ul-Beads_PEX3_1',\n 'Intensity 10cm-Format-20ul-Beads_PEX3_2',\n 'Intensity 10cm-Format-20ul-Beads_PEX3_3',\n 'Intensity 10cm-Format-20ul-Beads_TOMM20_1',\n 'Intensity 10cm-Format-20ul-Beads_TOMM20_2',\n 'Intensity 10cm-Format-20ul-Beads_TOMM20_3',\n 'Intensity 10cm-Format-20ul-Beads_WT_1',\n 'Intensity 10cm-Format-20ul-Beads_WT_2',\n 'Intensity 10cm-Format-20ul-Beads_WT_3',\n 'Intensity 6well-Format-20ul-Beads_LAMP1_1',\n 'Intensity 6well-Format-20ul-Beads_LAMP1_2',\n 'Intensity 6well-Format-20ul-Beads_LAMP1_3',\n 'Intensity 6well-Format-20ul-Beads_PEX3_1',\n 'Intensity 6well-Format-20ul-Beads_PEX3_2',\n 'Intensity 6well-Format-20ul-Beads_PEX3_3',\n 'Intensity 6well-Format-20ul-Beads_TOMM20_1',\n 'Intensity 6well-Format-20ul-Beads_TOMM20_2',\n 'Intensity 6well-Format-20ul-Beads_TOMM20_3',\n 'Intensity 6well-Format-20ul-Beads_WT_1',\n 'Intensity 6well-Format-20ul-Beads_WT_2',\n 'Intensity 6well-Format-20ul-Beads_WT_3',\n 'Intensity 6well-Format-3-4ul-Beads_LAMP1_1',\n 'Intensity 6well-Format-3-4ul-Beads_LAMP1_2',\n 'Intensity 6well-Format-3-4ul-Beads_LAMP1_3',\n 'Intensity 6well-Format-3-4ul-Beads_PEX3_1',\n 'Intensity 6well-Format-3-4ul-Beads_PEX3_2',\n 'Intensity 6well-Format-3-4ul-Beads_PEX3_3',\n 'Intensity 6well-Format-3-4ul-Beads_TOMM20_1',\n 'Intensity 6well-Format-3-4ul-Beads_TOMM20_2',\n 'Intensity 6well-Format-3-4ul-Beads_TOMM20_3',\n 'Intensity 6well-Format-3-4ul-Beads_WT_1',\n 'Intensity 6well-Format-3-4ul-Beads_WT_2',\n 'Intensity 6well-Format-3-4ul-Beads_WT_3']"
     },
     "execution_count": 9,
     "metadata": {},
     "output_type": "execute_result"
    }
   ],
   "source": [
    "# This is a sample of how the new sample names will look like\n",
    "sample_cols"
   ]
  },
  {
   "cell_type": "markdown",
   "metadata": {},
   "source": [
    "### If the formatting is proper, change the column names of the table and save it"
   ]
  },
  {
   "cell_type": "code",
   "execution_count": 10,
   "metadata": {},
   "outputs": [],
   "source": [
    "renamed = ip.rename_columns(raw.raw_table, RE=re, replacement_RE=replacement_re, repl_search=False)\n",
    "\n",
    "# Save to csv. use the altered pg_file name in the processing\n",
    "renamed.to_csv(root + 'proteinGroups_renamed.txt', sep='\\t')"
   ]
  }
 ],
 "metadata": {
  "kernelspec": {
   "display_name": "Python 3.8.6 64-bit ('base': conda)",
   "metadata": {
    "interpreter": {
     "hash": "930e758eac83a47c3f6a2aaed71e4b7879009c372833f2c2cc066faeb240b89b"
    }
   },
   "name": "python3"
  },
  "language_info": {
   "codemirror_mode": {
    "name": "ipython",
    "version": 3
   },
   "file_extension": ".py",
   "mimetype": "text/x-python",
   "name": "python",
   "nbconvert_exporter": "python",
   "pygments_lexer": "ipython3",
   "version": "3.8.6"
  },
  "orig_nbformat": 2
 },
 "nbformat": 4,
 "nbformat_minor": 2
}
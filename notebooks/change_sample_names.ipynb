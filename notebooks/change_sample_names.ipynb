{
 "cells": [
  {
   "cell_type": "code",
   "execution_count": 1,
   "metadata": {},
   "outputs": [],
   "source": [
    "import sys\n",
    "sys.path.append('../')\n",
    "\n",
    "import pandas as pd\n",
    "from pyseus import basic_processing as ip"
   ]
  },
  {
   "cell_type": "markdown",
   "metadata": {},
   "source": [
    "### Before processing, samples need to be in the format of experiment_sample_rep#"
   ]
  },
  {
   "cell_type": "code",
   "execution_count": 24,
   "metadata": {},
   "outputs": [],
   "source": [
    "# Specify directory and filename to import the protein groups table\n",
    "root = '../data/20210719_Infected_Cell_All_Samples/'\n",
    "pg_file = 'proteinGroups_tweeked.txt'\n",
    "analysis = ''\n",
    "intensity_type = ''\n",
    "\n",
    "raw = ip.RawTables(root, analysis, intensity_type, pg_file=pg_file)\n",
    "\n",
    "# Extract column names\n",
    "col_names = list(raw.raw_table)\n",
    "intensity_cols = [x for x in col_names if 'intensity' in x]"
   ]
  },
  {
   "cell_type": "code",
   "execution_count": 25,
   "metadata": {},
   "outputs": [
    {
     "data": {
      "text/plain": "['LFQ intensity GPR107_infected_1',\n 'LFQ intensity GPR107_infected_2',\n 'LFQ intensity GPR107_infected_3',\n 'LFQ intensity GPR107_uninfected_1',\n 'LFQ intensity GPR107_uninfected_2',\n 'LFQ intensity GPR107_uninfected_3',\n 'LFQ intensity LAMP1_infected_1',\n 'LFQ intensity LAMP1_infected_2',\n 'LFQ intensity LAMP1_infected_3',\n 'LFQ intensity LAMP1_uninfected_1',\n 'LFQ intensity LAMP1_uninfected_2',\n 'LFQ intensity LAMP1_uninfected_3',\n 'LFQ intensity PEX3_infected_1',\n 'LFQ intensity PEX3_infected_2',\n 'LFQ intensity PEX3_infected_3',\n 'LFQ intensity PEX3_uninfected_1',\n 'LFQ intensity PEX3_uninfected_2',\n 'LFQ intensity PEX3_uninfected_3',\n 'LFQ intensity RTN4_infected_1',\n 'LFQ intensity RTN4_infected_2',\n 'LFQ intensity RTN4_infected_3',\n 'LFQ intensity RTN4_uninfected_1',\n 'LFQ intensity RTN4_uninfected_2',\n 'LFQ intensity RTN4_uninfected_3',\n 'LFQ intensity TOMM20_infected_1',\n 'LFQ intensity TOMM20_infected_2',\n 'LFQ intensity TOMM20_infected_3',\n 'LFQ intensity TOMM20_uninfected_1',\n 'LFQ intensity TOMM20_uninfected_2',\n 'LFQ intensity TOMM20_uninfected_3',\n 'LFQ intensity untagged_infected_1',\n 'LFQ intensity untagged_infected_2',\n 'LFQ intensity untagged_infected_3',\n 'LFQ intensity untagged_uninfected_1',\n 'LFQ intensity untagged_uninfected_2',\n 'LFQ intensity untagged_uninfected_3']"
     },
     "execution_count": 25,
     "metadata": {},
     "output_type": "execute_result"
    }
   ],
   "source": [
    "# Current format of intensity columns\n",
    "intensity_cols"
   ]
  },
  {
   "cell_type": "code",
   "execution_count": 18,
   "metadata": {},
   "outputs": [],
   "source": [
    "# This is a list of regular expressions that will be changed.\n",
    "re = ['_infected', '_uninfected', 'ntensity ']\n",
    "# This is a list of replacement strings. \n",
    "replacement_re=['-infected', '-uninfected', 'ntensity 20210719_']\n",
    "\n",
    "# The method will reformat strings by the order given in the previous list\n",
    "sample_cols = ip.sample_rename(intensity_cols, RE=re, replacement_RE=replacement_re, repl_search=False)"
   ]
  },
  {
   "cell_type": "code",
   "execution_count": 19,
   "metadata": {},
   "outputs": [
    {
     "data": {
      "text/plain": "['LFQ intensity 20210719_GPR107-infected_1',\n 'LFQ intensity 20210719_GPR107-infected_2',\n 'LFQ intensity 20210719_GPR107-infected_3',\n 'LFQ intensity 20210719_GPR107-uninfected_1',\n 'LFQ intensity 20210719_GPR107-uninfected_2',\n 'LFQ intensity 20210719_GPR107-uninfected_3',\n 'LFQ intensity 20210719_LAMP1-infected_1',\n 'LFQ intensity 20210719_LAMP1-infected_2',\n 'LFQ intensity 20210719_LAMP1-infected_3',\n 'LFQ intensity 20210719_LAMP1-uninfected_1',\n 'LFQ intensity 20210719_LAMP1-uninfected_2',\n 'LFQ intensity 20210719_LAMP1-uninfected_3',\n 'LFQ intensity 20210719_PEX3-infected_1',\n 'LFQ intensity 20210719_PEX3-infected_2',\n 'LFQ intensity 20210719_PEX3-infected_3',\n 'LFQ intensity 20210719_PEX3-uninfected_1',\n 'LFQ intensity 20210719_PEX3-uninfected_2',\n 'LFQ intensity 20210719_PEX3-uninfected_3',\n 'LFQ intensity 20210719_RTN4-infected_1',\n 'LFQ intensity 20210719_RTN4-infected_2',\n 'LFQ intensity 20210719_RTN4-infected_3',\n 'LFQ intensity 20210719_RTN4-uninfected_1',\n 'LFQ intensity 20210719_RTN4-uninfected_2',\n 'LFQ intensity 20210719_RTN4-uninfected_3',\n 'LFQ intensity 20210719_TOMM20-infected_1',\n 'LFQ intensity 20210719_TOMM20-infected_2',\n 'LFQ intensity 20210719_TOMM20-infected_3',\n 'LFQ intensity 20210719_TOMM20-uninfected_1',\n 'LFQ intensity 20210719_TOMM20-uninfected_2',\n 'LFQ intensity 20210719_TOMM20-uninfected_3',\n 'LFQ intensity 20210719_untagged-infected_1',\n 'LFQ intensity 20210719_untagged-infected_2',\n 'LFQ intensity 20210719_untagged-infected_3',\n 'LFQ intensity 20210719_untagged-uninfected_1',\n 'LFQ intensity 20210719_untagged-uninfected_2',\n 'LFQ intensity 20210719_untagged-uninfected_3']"
     },
     "execution_count": 19,
     "metadata": {},
     "output_type": "execute_result"
    }
   ],
   "source": [
    "# This is a sample of how the new sample names will look like\n",
    "sample_cols"
   ]
  },
  {
   "cell_type": "markdown",
   "metadata": {},
   "source": [
    "### If the formatting is proper, change the column names of the table and save it"
   ]
  },
  {
   "cell_type": "code",
   "execution_count": 28,
   "metadata": {},
   "outputs": [],
   "source": [
    "renamed = ip.rename_columns(raw.raw_table, RE=re, replacement_RE=replacement_re, repl_search=False)\n",
    "\n",
    "# Save to csv. use the altered pg_file name in the processing\n",
    "renamed.to_csv(root + 'proteinGroups_renamed_t.txt', sep='\\t')"
   ]
  },
  {
   "cell_type": "code",
   "execution_count": 29,
   "metadata": {},
   "outputs": [
    {
     "data": {
      "text/plain": "LFQ intensity 20210719_GPR107-infected_1         object\nLFQ intensity 20210719_GPR107-infected_2         object\nLFQ intensity 20210719_GPR107-infected_3         object\nLFQ intensity 20210719_GPR107-uninfected_1       object\nLFQ intensity 20210719_GPR107-uninfected_2      float64\nLFQ intensity 20210719_GPR107-uninfected_3      float64\nLFQ intensity 20210719_LAMP1-infected_1         float64\nLFQ intensity 20210719_LAMP1-infected_2         float64\nLFQ intensity 20210719_LAMP1-infected_3         float64\nLFQ intensity 20210719_LAMP1-uninfected_1       float64\nLFQ intensity 20210719_LAMP1-uninfected_2       float64\nLFQ intensity 20210719_LAMP1-uninfected_3       float64\nLFQ intensity 20210719_PEX3-infected_1          float64\nLFQ intensity 20210719_PEX3-infected_2          float64\nLFQ intensity 20210719_PEX3-infected_3          float64\nLFQ intensity 20210719_PEX3-uninfected_1        float64\nLFQ intensity 20210719_PEX3-uninfected_2        float64\nLFQ intensity 20210719_PEX3-uninfected_3        float64\nLFQ intensity 20210719_RTN4-infected_1          float64\nLFQ intensity 20210719_RTN4-infected_2          float64\nLFQ intensity 20210719_RTN4-infected_3          float64\nLFQ intensity 20210719_RTN4-uninfected_1        float64\nLFQ intensity 20210719_RTN4-uninfected_2        float64\nLFQ intensity 20210719_RTN4-uninfected_3        float64\nLFQ intensity 20210719_TOMM20-infected_1        float64\nLFQ intensity 20210719_TOMM20-infected_2        float64\nLFQ intensity 20210719_TOMM20-infected_3        float64\nLFQ intensity 20210719_TOMM20-uninfected_1      float64\nLFQ intensity 20210719_TOMM20-uninfected_2      float64\nLFQ intensity 20210719_TOMM20-uninfected_3      float64\nLFQ intensity 20210719_untagged-infected_1      float64\nLFQ intensity 20210719_untagged-infected_2      float64\nLFQ intensity 20210719_untagged-infected_3      float64\nLFQ intensity 20210719_untagged-uninfected_1    float64\nLFQ intensity 20210719_untagged-uninfected_2    float64\nLFQ intensity 20210719_untagged-uninfected_3    float64\nOnly identified by site                          object\nReverse                                          object\nPotential contaminant                            object\nTaxonomy IDs                                     object\nPeptides                                        float64\nRazor + unique peptides                         float64\nUnique peptides                                 float64\nSequence coverage [%]                           float64\nUnique + razor sequence coverage [%]            float64\nUnique sequence coverage [%]                    float64\nMol. weight [kDa]                               float64\nQ-value                                         float64\nScore                                           float64\nIntensity                                       float64\nMS/MS count                                     float64\nProtein IDs                                      object\nMajority protein IDs                             object\nGene names                                       object\nProtein names                                    object\ndtype: object"
     },
     "execution_count": 29,
     "metadata": {},
     "output_type": "execute_result"
    }
   ],
   "source": [
    "renamed.dtypes"
   ]
  },
  {
   "cell_type": "code",
   "execution_count": null,
   "metadata": {},
   "outputs": [],
   "source": []
  }
 ],
 "metadata": {
  "kernelspec": {
   "display_name": "Python 3",
   "language": "python",
   "name": "python3"
  },
  "language_info": {
   "codemirror_mode": {
    "name": "ipython",
    "version": 3
   },
   "file_extension": ".py",
   "mimetype": "text/x-python",
   "name": "python",
   "nbconvert_exporter": "python",
   "pygments_lexer": "ipython3",
   "version": "3.8.6"
  }
 },
 "nbformat": 4,
 "nbformat_minor": 2
}
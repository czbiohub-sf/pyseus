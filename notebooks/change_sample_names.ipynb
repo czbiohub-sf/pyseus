{
 "cells": [
  {
   "cell_type": "code",
   "execution_count": 1,
   "metadata": {},
   "outputs": [],
   "source": [
    "import sys\n",
    "sys.path.append('../')\n",
    "\n",
    "import pandas as pd\n",
    "from pyseus import basic_processing as ip"
   ]
  },
  {
   "cell_type": "markdown",
   "metadata": {},
   "source": [
    "### Before processing, samples need to be in the format of experiment_sample_rep#"
   ]
  },
  {
   "cell_type": "code",
   "execution_count": 2,
   "metadata": {},
   "outputs": [],
   "source": [
    "# Read the pgroups file\n",
    "root = '../data/OC_Plate_22-25_MBR/'\n",
    "pg_file = 'proteinGroups.txt'\n",
    "intensity_type = 'LFQ intensity'\n",
    "\n",
    "raw = ip.RawTables(experiment_dir=root, intensity_type=intensity_type, pg_file=pg_file)\n",
    "\n",
    "# Extract column names\n",
    "col_names = list(raw.pg_table)\n",
    "intensity_cols = [x for x in col_names if 'LFQ intensity ' in x]\n",
    "raw.sample_cols = intensity_cols"
   ]
  },
  {
   "cell_type": "code",
   "execution_count": 7,
   "metadata": {},
   "outputs": [
    {
     "data": {
      "text/plain": [
       "['LFQ intensity 20200211_TIMS03_EvoSep04_AnBrAnMi_HumanInteractome_0769_CZBMPI_P022A01_RANBP2_01',\n",
       " 'LFQ intensity 20200211_TIMS03_EvoSep04_AnBrAnMi_HumanInteractome_0770_CZBMPI_P022B01_COMMD1_01',\n",
       " 'LFQ intensity 20200211_TIMS03_EvoSep04_AnBrAnMi_HumanInteractome_0771_CZBMPI_P022C01_COMMD2_01',\n",
       " 'LFQ intensity 20200211_TIMS03_EvoSep04_AnBrAnMi_HumanInteractome_0772_CZBMPI_P022D01_COMMD4_01',\n",
       " 'LFQ intensity 20200211_TIMS03_EvoSep04_AnBrAnMi_HumanInteractome_0773_CZBMPI_P022E01_COMMD6_01']"
      ]
     },
     "execution_count": 7,
     "metadata": {},
     "output_type": "execute_result"
    }
   ],
   "source": [
    "# Current format of intensity columns\n",
    "intensity_cols[:5]"
   ]
  },
  {
   "cell_type": "code",
   "execution_count": 4,
   "metadata": {},
   "outputs": [],
   "source": [
    "# This is a list of regular expressions that will be changed.\n",
    "# Infected states are part of sample names, and therefore gets a dash instead of underscore\n",
    "# Experiment ID is added via date '20210719_'\n",
    "\n",
    "re = ['LFQ.*CZBMPI_', '[A-Z]\\d\\d_']\n",
    "# This is a list of replacement strings, in respective order. \n",
    "replacement_re=['LFQ intensity ', '_']\n",
    "\n",
    "# The method will reformat strings by the order given in the previous list\n",
    "sample_cols = ip.sample_rename(intensity_cols, RE=re, replacement_RE=replacement_re, repl_search=False)"
   ]
  },
  {
   "cell_type": "code",
   "execution_count": 5,
   "metadata": {},
   "outputs": [
    {
     "data": {
      "text/plain": [
       "['LFQ intensity P022_RANBP2_01',\n",
       " 'LFQ intensity P022_COMMD1_01',\n",
       " 'LFQ intensity P022_COMMD2_01',\n",
       " 'LFQ intensity P022_COMMD4_01',\n",
       " 'LFQ intensity P022_COMMD6_01']"
      ]
     },
     "execution_count": 5,
     "metadata": {},
     "output_type": "execute_result"
    }
   ],
   "source": [
    "# This is a sample of how the new sample names will look like\n",
    "sample_cols[:5]"
   ]
  },
  {
   "cell_type": "markdown",
   "metadata": {},
   "source": [
    "### If the formatting is proper, change the column names of the table and save it"
   ]
  },
  {
   "cell_type": "code",
   "execution_count": 6,
   "metadata": {},
   "outputs": [],
   "source": [
    "raw.rename_columns(RE=re, replacement_RE=replacement_re, repl_search=False)\n",
    "\n",
    "# Save to csv. use the altered pg_file name in the processing\n",
    "raw.renamed_table.to_csv(root + 'proteinGroups_renamed.txt', sep='\\t')"
   ]
  },
  {
   "cell_type": "code",
   "execution_count": null,
   "metadata": {},
   "outputs": [],
   "source": []
  }
 ],
 "metadata": {
  "kernelspec": {
   "display_name": "Python 3.9.10 64-bit ('pyseus')",
   "language": "python",
   "name": "python3"
  },
  "language_info": {
   "codemirror_mode": {
    "name": "ipython",
    "version": 3
   },
   "file_extension": ".py",
   "mimetype": "text/x-python",
   "name": "python",
   "nbconvert_exporter": "python",
   "pygments_lexer": "ipython3",
   "version": "3.9.10"
  },
  "vscode": {
   "interpreter": {
    "hash": "55edea1d5b79b28995c8114ab4a49d53e6b932d855f71f4b2dd3e89bfd17147a"
   }
  }
 },
 "nbformat": 4,
 "nbformat_minor": 2
}
